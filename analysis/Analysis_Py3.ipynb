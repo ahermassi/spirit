{
 "cells": [
  {
   "cell_type": "code",
   "execution_count": 1,
   "metadata": {
    "collapsed": true,
    "deletable": true,
    "editable": true
   },
   "outputs": [],
   "source": [
    "import glob"
   ]
  },
  {
   "cell_type": "code",
   "execution_count": 28,
   "metadata": {
    "collapsed": true,
    "deletable": true,
    "editable": true
   },
   "outputs": [],
   "source": [
    "import matplotlib.pyplot as plt\n",
    "from matplotlib import patches\n",
    "import numpy as np\n",
    "import pandas as pd\n",
    "%matplotlib inline"
   ]
  },
  {
   "cell_type": "code",
   "execution_count": 175,
   "metadata": {
    "collapsed": true,
    "deletable": true,
    "editable": true
   },
   "outputs": [],
   "source": [
    "from collections import namedtuple\n",
    "Coords = namedtuple(\"Coords\", \"x y\")\n",
    "TARGET = Coords(0, -6)\n",
    "\n",
    "from enum import Enum\n",
    "DroneState = Enum(\"DroneState\",\n",
    "                  \"Emergency Inited Landed Flying Hovering Test TakingOff GotoHover Landing Looping\",\n",
    "                  start=0)\n",
    "ExperimentType = Enum()"
   ]
  },
  {
   "cell_type": "code",
   "execution_count": 116,
   "metadata": {
    "collapsed": true,
    "deletable": true,
    "editable": true
   },
   "outputs": [],
   "source": [
    "def plot_xy(df, x=\"x\", y=\"y\", invert_x=True, invert_y=True, s=None, c=None,\n",
    "            cmap=\"viridis\", alpha=1, show_cbar=True, label=None, line=False, zorder=0):\n",
    "    \"\"\"\n",
    "    Coords in real frame. +x is towards doors, +y is away from table.\n",
    "    \n",
    "    \"\"\"\n",
    "    if s is not None:\n",
    "        s = df[s]*25\n",
    "    if c is not None:\n",
    "        label = c\n",
    "        try:\n",
    "            df[c]\n",
    "        except KeyError:\n",
    "            pass\n",
    "        else:\n",
    "            c = df[c]\n",
    "    else:\n",
    "        if line:\n",
    "            c = \"C0\"\n",
    "        else:\n",
    "            c = df.index\n",
    "            label=\"time\"\n",
    "    \n",
    "    if line:\n",
    "        plt.plot(df[x] * (-1 if invert_x else 1), df[y] * (-1 if invert_y else 1), c=c, alpha=alpha, zorder=zorder)\n",
    "    else:\n",
    "        plt.scatter(df[x] * (-1 if invert_x else 1), df[y] * (-1 if invert_y else 1), s=s, c=c, cmap=cmap, alpha=alpha, zorder=zorder)\n",
    "        if show_cbar:\n",
    "            plt.colorbar(label=label)\n",
    "    plt.axis(\"equal\")"
   ]
  },
  {
   "cell_type": "code",
   "execution_count": 165,
   "metadata": {
    "collapsed": true,
    "deletable": true,
    "editable": true
   },
   "outputs": [],
   "source": [
    "def plot_xy_conditional(df, condition=None, x=\"x\", y=\"y\", invert_x=True, invert_y=True,\n",
    "                        s=None, c=None, c_condition=None, cmap_condition=\"viridis\", cmap_not_condition=\"gray\",\n",
    "                        alpha_condition=1, alpha_not_condition=1, show_cbar=True, label=None, line=False,\n",
    "                        zorder_condition=1, zorder_not_condition=0):\n",
    "    if condition is None:\n",
    "        cmap_not_condition = cmap_condition\n",
    "    plot_xy(df, x=x, y=y, invert_x=invert_x, invert_y=invert_y,\n",
    "            s=s, c=c, cmap=cmap_not_condition, alpha=alpha_not_condition, show_cbar=show_cbar,\n",
    "            label=label, line=line, zorder=zorder_not_condition)\n",
    "    if condition is not None:\n",
    "        if line:\n",
    "            show_cbar = False\n",
    "            if c_condition is None:\n",
    "                c = \"C0\"\n",
    "            else:\n",
    "                c = c_condition\n",
    "        plot_xy(df[condition], x=x, y=y, invert_x=invert_x, invert_y=invert_y,\n",
    "                s=s, c=c, cmap=cmap_condition, alpha=alpha_condition, show_cbar=show_cbar,\n",
    "                label=label, zorder=zorder_condition)"
   ]
  },
  {
   "cell_type": "code",
   "execution_count": 158,
   "metadata": {
    "collapsed": true,
    "deletable": true,
    "editable": true
   },
   "outputs": [],
   "source": [
    "def plot_targets(p_init=Coords(0, 0), p_final=Coords(0, 0), invert_x=True, invert_y=True,\n",
    "                 target_coords=None, target_coord_offsets=None, target_color=\"C2\",\n",
    "                 target_size=Coords(0.525, 0.37), show_start=True, show_final=True,\n",
    "                 scale=100, zorder=0):\n",
    "    if target_coords is not None and target_coord_offsets is not None:\n",
    "        raise ValueError(\"Use either target_coords or target_coord_offsets\")\n",
    "    \n",
    "    ax = plt.gca()\n",
    "    \n",
    "    if target_coords is None:\n",
    "        if target_coord_offsets is None:\n",
    "            target_coord_offsets = TARGET_COORD_OFFSETS\n",
    "        target_coords = [Coords(p_init.x - offset.x, p_init.y - offset.y) for offset in target_coord_offsets]\n",
    "    \n",
    "    if show_start:\n",
    "        plt.scatter(-p_init.x, -p_init.y, marker=(5, 0), s=100, c=\"g\")\n",
    "    for coord in target_coords:\n",
    "        ax.add_patch(patches.Rectangle((coord.x * (-1 if invert_x else 1) - target_size.x / 2,\n",
    "                                        coord.y * (-1 if invert_y else 1) - target_size.y / 2),\n",
    "                                       target_size.x,\n",
    "                                       target_size.y,\n",
    "                                       color=target_color,\n",
    "                                       zorder=zorder))\n",
    "    if show_final:\n",
    "        plt.scatter(p_final.x * (-1 if invert_x else 1), p_final.y * (-1 if invert_y else 1), marker=(3, 0), s=scale, c=\"r\")\n",
    "    plt.axis(\"equal\")"
   ]
  },
  {
   "cell_type": "markdown",
   "metadata": {
    "deletable": true,
    "editable": true
   },
   "source": [
    "Import the files."
   ]
  },
  {
   "cell_type": "code",
   "execution_count": 162,
   "metadata": {
    "collapsed": false
   },
   "outputs": [
    {
     "data": {
      "text/plain": [
       "<matplotlib.legend.Legend at 0x7f425df4fc88>"
      ]
     },
     "execution_count": 162,
     "metadata": {},
     "output_type": "execute_result"
    },
    {
     "data": {
      "image/png": "[encoded data removed]",
      "text/plain": [
       "<matplotlib.figure.Figure at 0x7f425ebdc748>"
      ]
     },
     "metadata": {},
     "output_type": "display_data"
    }
   ],
   "source": [
    "ax1 = plt.subplot(\"121\")\n",
    "for filename in glob.glob(\"csv/experiment-0_*.csv\"):\n",
    "    if \"user-99\" not in filename:\n",
    "        df = pd.read_csv(filename, parse_dates=[\"time\"])\n",
    "        if any(df.arrived):\n",
    "            plot_xy_conditional(df, df.arrived==1, x=\"xn\", y=\"yn\", c=\"C0\", c_condition=\"C0\",\n",
    "                                alpha_not_condition=0.2, alpha_condition=0.5, line=True,\n",
    "                                zorder_condition=1, zorder_not_condition=0)\n",
    "plot_targets(target_coords=[TARGET], show_final=False, zorder=-1)\n",
    "plt.title(\"Onboard\")\n",
    "\n",
    "ax2 = plt.subplot(\"122\", sharex=ax1, sharey=ax1)\n",
    "for filename in glob.glob(\"csv/experiment-1_*.csv\"):\n",
    "    if \"user-99\" not in filename:\n",
    "        df = pd.read_csv(filename, parse_dates=[\"time\"])\n",
    "        if any(df.arrived):\n",
    "            plot_xy_conditional(df, df.arrived==1, x=\"xn\", y=\"yn\", c=\"C0\", c_condition=\"C0\",\n",
    "                                alpha_not_condition=0.2, alpha_condition=0.5, line=True,\n",
    "                                zorder_condition=1, zorder_not_condition=0)\n",
    "plot_targets(target_coords=[TARGET], show_final=False, zorder=-1)\n",
    "plt.title(\"SPIRIT\")\n",
    "spirit_path, = plt.plot([], [], color=\"C0\")\n",
    "spirit_arrival, = plt.plot([], [], linestyle=\"none\", color=\"C0\", marker=\"o\")\n",
    "plt.figlegend([spirit_path, spirit_arrival], [\"Path\", \"Arrival\"], \"lower left\")"
   ]
  },
  {
   "cell_type": "code",
   "execution_count": 161,
   "metadata": {
    "collapsed": false,
    "deletable": true,
    "editable": true
   },
   "outputs": [
    {
     "data": {
      "text/plain": [
       "<matplotlib.legend.Legend at 0x7f425eb10128>"
      ]
     },
     "execution_count": 161,
     "metadata": {},
     "output_type": "execute_result"
    },
    {
     "data": {
      "image/png": "[encoded data removed]",
      "text/plain": [
       "<matplotlib.figure.Figure at 0x7f425f171dd8>"
      ]
     },
     "metadata": {},
     "output_type": "display_data"
    }
   ],
   "source": [
    "for filename in glob.glob(\"csv/experiment-0_*.csv\"):\n",
    "    if \"user-99\" not in filename:\n",
    "        df = pd.read_csv(filename, parse_dates=[\"time\"])\n",
    "        if any(df.arrived):\n",
    "            plot_xy_conditional(df, df.arrived==1, x=\"xn\", y=\"yn\", c=\"C0\", c_condition=\"C0\",\n",
    "                                alpha_not_condition=0.2, alpha_condition=0.5, line=True,\n",
    "                                zorder_condition=1, zorder_not_condition=0)\n",
    "onboard_path, = plt.plot([], [], color=\"C0\", label=\"Onboard path\")\n",
    "onboard_arrival, = plt.plot([], [], linestyle=\"none\", color=\"C0\", marker=\"o\", label=\"Onboard arrival\")\n",
    "for filename in glob.glob(\"csv/experiment-1_*.csv\"):\n",
    "    if \"user-99\" not in filename:\n",
    "        df = pd.read_csv(filename, parse_dates=[\"time\"])\n",
    "        if any(df.arrived):\n",
    "            plot_xy_conditional(df, df.arrived==1, x=\"xn\", y=\"yn\", c=\"C1\", c_condition=\"C1\",\n",
    "                                alpha_not_condition=0.2, alpha_condition=0.5, line=True,\n",
    "                                zorder_condition=1, zorder_not_condition=0)\n",
    "spirit_path, = plt.plot([], [], color=\"C1\", label=\"SPIRIT path\")\n",
    "spirit_arrival, = plt.plot([], [], linestyle=\"none\", color=\"C1\", marker=\"o\", label=\"SPIRIT arrival\")\n",
    "plot_targets(target_coords=[TARGET], show_final=False, zorder=-1)\n",
    "plt.xlabel(r\"$x$\")\n",
    "plt.ylabel(r\"$y$\")\n",
    "plt.legend(handles=[onboard_path, onboard_arrival, spirit_path, spirit_arrival])"
   ]
  },
  {
   "cell_type": "markdown",
   "metadata": {},
   "source": [
    "Check not too many far arrivals."
   ]
  },
  {
   "cell_type": "code",
   "execution_count": 8,
   "metadata": {
    "collapsed": true,
    "deletable": true,
    "editable": true
   },
   "outputs": [],
   "source": [
    "def tag_data(df):\n",
    "    df[\"tag\"] = (df.arrived.diff(1) != 0).astype('int').cumsum()"
   ]
  },
  {
   "cell_type": "code",
   "execution_count": 9,
   "metadata": {
    "collapsed": false,
    "deletable": true,
    "editable": true
   },
   "outputs": [
    {
     "data": {
      "text/plain": [
       "{1, 2, 3}"
      ]
     },
     "execution_count": 9,
     "metadata": {},
     "output_type": "execute_result"
    }
   ],
   "source": [
    "tag_data(df)\n",
    "set(df.tag)"
   ]
  },
  {
   "cell_type": "code",
   "execution_count": 10,
   "metadata": {
    "collapsed": false,
    "deletable": true,
    "editable": true
   },
   "outputs": [
    {
     "data": {
      "text/plain": [
       "['csv/experiment-0_user-00_run-00.csv',\n",
       " 'csv/experiment-0_user-00_run-01.csv',\n",
       " 'csv/experiment-0_user-01_run-00.csv',\n",
       " 'csv/experiment-0_user-01_run-01.csv',\n",
       " 'csv/experiment-0_user-02_run-00.csv',\n",
       " 'csv/experiment-0_user-02_run-01.csv',\n",
       " 'csv/experiment-0_user-02_run-02.csv',\n",
       " 'csv/experiment-0_user-03_run-00.csv',\n",
       " 'csv/experiment-0_user-03_run-01.csv',\n",
       " 'csv/experiment-0_user-04_run-00.csv',\n",
       " 'csv/experiment-0_user-04_run-01.csv',\n",
       " 'csv/experiment-1_user-00_run-00.csv',\n",
       " 'csv/experiment-1_user-00_run-01.csv',\n",
       " 'csv/experiment-1_user-01_run-00.csv',\n",
       " 'csv/experiment-1_user-01_run-01.csv',\n",
       " 'csv/experiment-1_user-02_run-00.csv',\n",
       " 'csv/experiment-1_user-02_run-01.csv',\n",
       " 'csv/experiment-1_user-03_run-00.csv',\n",
       " 'csv/experiment-1_user-03_run-01.csv',\n",
       " 'csv/experiment-1_user-03_run-02.csv',\n",
       " 'csv/experiment-1_user-03_run-03.csv',\n",
       " 'csv/experiment-1_user-04_run-00.csv',\n",
       " 'csv/experiment-1_user-04_run-01.csv',\n",
       " 'csv/experiment-1_user-04_run-02.csv']"
      ]
     },
     "execution_count": 10,
     "metadata": {},
     "output_type": "execute_result"
    }
   ],
   "source": [
    "filenames = sorted([filename for filename in glob.glob(\"csv/*.csv\") if \"user-99\" not in filename])\n",
    "filenames"
   ]
  },
  {
   "cell_type": "code",
   "execution_count": 11,
   "metadata": {
    "collapsed": false,
    "deletable": true,
    "editable": true
   },
   "outputs": [
    {
     "name": "stdout",
     "output_type": "stream",
     "text": [
      "0 csv/experiment-0_user-00_run-00.csv 2\n",
      "2 csv/experiment-0_user-01_run-00.csv 2\n",
      "4 csv/experiment-0_user-02_run-00.csv 2\n",
      "12 csv/experiment-1_user-01_run-00.csv 2\n",
      "13 csv/experiment-1_user-01_run-01.csv 2\n",
      "14 csv/experiment-1_user-02_run-00.csv 2\n",
      "19 csv/experiment-1_user-04_run-02.csv 3\n"
     ]
    }
   ],
   "source": [
    "arrived_filenames = []\n",
    "for filename in filenames:\n",
    "    if \"user-99\" not in filename:\n",
    "        df = pd.read_csv(filename, parse_dates=[\"time\"])\n",
    "        if any(df.arrived):\n",
    "            tag_data(df)\n",
    "            arrived_filenames.append(filename)\n",
    "            n_presses = (max(df.tag) - 1) // 2\n",
    "            if n_presses > 1:\n",
    "                print(len(arrived_filenames) - 1, filename, n_presses)"
   ]
  },
  {
   "cell_type": "markdown",
   "metadata": {},
   "source": [
    "Analyze one"
   ]
  },
  {
   "cell_type": "code",
   "execution_count": 176,
   "metadata": {
    "collapsed": false,
    "deletable": true,
    "editable": true
   },
   "outputs": [
    {
     "data": {
      "image/png": "[encoded data removed]",
      "text/plain": [
       "<matplotlib.figure.Figure at 0x7f425e67d278>"
      ]
     },
     "metadata": {},
     "output_type": "display_data"
    }
   ],
   "source": [
    "df = pd.read_csv(arrived_filenames[19], parse_dates=[\"time\"])\n",
    "plot_targets(target_coords=[TARGET], target_color=\"C6\", show_final=False, zorder=0)\n",
    "plot_xy_conditional(df, df.arrived==1, x=\"xn\", y=\"yn\", c=\"C2\", c_condition=\"C2\",\n",
    "                    alpha_not_condition=0.5, alpha_condition=0.5, line=True)"
   ]
  },
  {
   "cell_type": "code",
   "execution_count": 197,
   "metadata": {
    "collapsed": true
   },
   "outputs": [],
   "source": [
    "found = df[df.arrived == 1]"
   ]
  },
  {
   "cell_type": "code",
   "execution_count": 204,
   "metadata": {
    "collapsed": false,
    "deletable": true,
    "editable": true
   },
   "outputs": [],
   "source": [
    "rms_x = np.sqrt(np.mean((found.xn - TARGET.x)**2))"
   ]
  },
  {
   "cell_type": "code",
   "execution_count": 205,
   "metadata": {
    "collapsed": false,
    "deletable": true,
    "editable": true
   },
   "outputs": [],
   "source": [
    "rms_y = np.sqrt(np.mean((found.yn - TARGET.y)**2))"
   ]
  },
  {
   "cell_type": "code",
   "execution_count": 210,
   "metadata": {
    "collapsed": false,
    "deletable": true,
    "editable": true
   },
   "outputs": [
    {
     "data": {
      "text/plain": [
       "0.33417252012018672"
      ]
     },
     "execution_count": 210,
     "metadata": {},
     "output_type": "execute_result"
    }
   ],
   "source": [
    "rms = np.sqrt(np.mean(((found.xn - TARGET.x)**2 + (found.yn - TARGET.y)**2)))\n",
    "rms"
   ]
  },
  {
   "cell_type": "code",
   "execution_count": 211,
   "metadata": {
    "collapsed": false,
    "deletable": true,
    "editable": true
   },
   "outputs": [],
   "source": [
    "def distance(df, target):\n",
    "    return np.sqrt((df.xn - target.x)**2 + (df.yn - target.y)**2)"
   ]
  },
  {
   "cell_type": "code",
   "execution_count": 213,
   "metadata": {
    "collapsed": false,
    "deletable": true,
    "editable": true
   },
   "outputs": [
    {
     "data": {
      "text/plain": [
       "0.33199180884567853"
      ]
     },
     "execution_count": 213,
     "metadata": {},
     "output_type": "execute_result"
    }
   ],
   "source": [
    "np.mean(distance(found, TARGET))"
   ]
  },
  {
   "cell_type": "code",
   "execution_count": 214,
   "metadata": {
    "collapsed": false,
    "deletable": true,
    "editable": true
   },
   "outputs": [
    {
     "data": {
      "text/plain": [
       "0.038114460023080797"
      ]
     },
     "execution_count": 214,
     "metadata": {},
     "output_type": "execute_result"
    }
   ],
   "source": [
    "np.std(distance(found, TARGET))"
   ]
  },
  {
   "cell_type": "code",
   "execution_count": 236,
   "metadata": {
    "collapsed": true
   },
   "outputs": [],
   "source": [
    "RunData = namedtuple(\"RunData\", \"experiment user run\")"
   ]
  },
  {
   "cell_type": "code",
   "execution_count": 251,
   "metadata": {
    "collapsed": true
   },
   "outputs": [],
   "source": [
    "import re\n",
    "FILENAME_PATTERN = \"experiment-(\\d)_user-(\\d+)_run-(\\d+)\"\n",
    "filename_regex = re.compile(pattern=FILENAME_PATTERN)"
   ]
  },
  {
   "cell_type": "code",
   "execution_count": 263,
   "metadata": {
    "collapsed": false
   },
   "outputs": [],
   "source": [
    "def extract_run_data(filename):\n",
    "    return RunData(*[int(i) for i in filename_regex.findall(filename)[0]])"
   ]
  },
  {
   "cell_type": "code",
   "execution_count": 264,
   "metadata": {
    "collapsed": false
   },
   "outputs": [
    {
     "data": {
      "text/plain": [
       "[RunData(experiment=0, user=0, run=0),\n",
       " RunData(experiment=0, user=0, run=1),\n",
       " RunData(experiment=0, user=1, run=0),\n",
       " RunData(experiment=0, user=1, run=1),\n",
       " RunData(experiment=0, user=2, run=0),\n",
       " RunData(experiment=0, user=2, run=2),\n",
       " RunData(experiment=0, user=3, run=0),\n",
       " RunData(experiment=0, user=3, run=1),\n",
       " RunData(experiment=0, user=4, run=0),\n",
       " RunData(experiment=0, user=4, run=1),\n",
       " RunData(experiment=1, user=0, run=0),\n",
       " RunData(experiment=1, user=0, run=1),\n",
       " RunData(experiment=1, user=1, run=0),\n",
       " RunData(experiment=1, user=1, run=1),\n",
       " RunData(experiment=1, user=2, run=0),\n",
       " RunData(experiment=1, user=2, run=1),\n",
       " RunData(experiment=1, user=3, run=0),\n",
       " RunData(experiment=1, user=3, run=3),\n",
       " RunData(experiment=1, user=4, run=0),\n",
       " RunData(experiment=1, user=4, run=2)]"
      ]
     },
     "execution_count": 264,
     "metadata": {},
     "output_type": "execute_result"
    }
   ],
   "source": [
    "[extract_run_data(i) for i in arrived_filenames]"
   ]
  },
  {
   "cell_type": "code",
   "execution_count": 260,
   "metadata": {
    "collapsed": false
   },
   "outputs": [
    {
     "data": {
      "text/plain": [
       "[1, 3, 5]"
      ]
     },
     "execution_count": 260,
     "metadata": {},
     "output_type": "execute_result"
    }
   ],
   "source": [
    "[int(i) for i in filename_regex.findall(\"experiment-1_user-03_run-05\")[0]]"
   ]
  },
  {
   "cell_type": "code",
   "execution_count": 256,
   "metadata": {
    "collapsed": false
   },
   "outputs": [
    {
     "data": {
      "text/plain": [
       "RunData(experiment=0, user=0, run=0)"
      ]
     },
     "execution_count": 256,
     "metadata": {},
     "output_type": "execute_result"
    }
   ],
   "source": [
    "extract_run_data(\"experiment-1_user-03_run-05\")"
   ]
  },
  {
   "cell_type": "code",
   "execution_count": 262,
   "metadata": {
    "collapsed": false
   },
   "outputs": [
    {
     "data": {
      "text/plain": [
       "RunData(experiment=1, user=3, run=5)"
      ]
     },
     "execution_count": 262,
     "metadata": {},
     "output_type": "execute_result"
    }
   ],
   "source": [
    "RunData(*[int(i) for i in filename_regex.findall(\"experiment-1_user-03_run-05\")[0]])"
   ]
  },
  {
   "cell_type": "code",
   "execution_count": null,
   "metadata": {
    "collapsed": true
   },
   "outputs": [],
   "source": []
  },
  {
   "cell_type": "code",
   "execution_count": null,
   "metadata": {
    "collapsed": true
   },
   "outputs": [],
   "source": []
  },
  {
   "cell_type": "code",
   "execution_count": null,
   "metadata": {
    "collapsed": true
   },
   "outputs": [],
   "source": []
  },
  {
   "cell_type": "code",
   "execution_count": null,
   "metadata": {
    "collapsed": true
   },
   "outputs": [],
   "source": []
  },
  {
   "cell_type": "code",
   "execution_count": null,
   "metadata": {
    "collapsed": true
   },
   "outputs": [],
   "source": []
  },
  {
   "cell_type": "code",
   "execution_count": null,
   "metadata": {
    "collapsed": true
   },
   "outputs": [],
   "source": []
  },
  {
   "cell_type": "code",
   "execution_count": null,
   "metadata": {
    "collapsed": true
   },
   "outputs": [],
   "source": []
  },
  {
   "cell_type": "code",
   "execution_count": null,
   "metadata": {
    "collapsed": true
   },
   "outputs": [],
   "source": []
  },
  {
   "cell_type": "code",
   "execution_count": null,
   "metadata": {
    "collapsed": true
   },
   "outputs": [],
   "source": []
  },
  {
   "cell_type": "code",
   "execution_count": null,
   "metadata": {
    "collapsed": true
   },
   "outputs": [],
   "source": []
  },
  {
   "cell_type": "code",
   "execution_count": null,
   "metadata": {
    "collapsed": true
   },
   "outputs": [],
   "source": []
  },
  {
   "cell_type": "code",
   "execution_count": null,
   "metadata": {
    "collapsed": true
   },
   "outputs": [],
   "source": []
  },
  {
   "cell_type": "code",
   "execution_count": null,
   "metadata": {
    "collapsed": true
   },
   "outputs": [],
   "source": []
  },
  {
   "cell_type": "code",
   "execution_count": null,
   "metadata": {
    "collapsed": true
   },
   "outputs": [],
   "source": []
  },
  {
   "cell_type": "code",
   "execution_count": null,
   "metadata": {
    "collapsed": true
   },
   "outputs": [],
   "source": []
  },
  {
   "cell_type": "code",
   "execution_count": null,
   "metadata": {
    "collapsed": true
   },
   "outputs": [],
   "source": []
  },
  {
   "cell_type": "code",
   "execution_count": null,
   "metadata": {
    "collapsed": true
   },
   "outputs": [],
   "source": []
  },
  {
   "cell_type": "code",
   "execution_count": null,
   "metadata": {
    "collapsed": true
   },
   "outputs": [],
   "source": []
  },
  {
   "cell_type": "code",
   "execution_count": null,
   "metadata": {
    "collapsed": true
   },
   "outputs": [],
   "source": []
  },
  {
   "cell_type": "code",
   "execution_count": null,
   "metadata": {
    "collapsed": true
   },
   "outputs": [],
   "source": []
  },
  {
   "cell_type": "code",
   "execution_count": null,
   "metadata": {
    "collapsed": true
   },
   "outputs": [],
   "source": []
  },
  {
   "cell_type": "code",
   "execution_count": null,
   "metadata": {
    "collapsed": true
   },
   "outputs": [],
   "source": []
  },
  {
   "cell_type": "code",
   "execution_count": null,
   "metadata": {
    "collapsed": true
   },
   "outputs": [],
   "source": []
  },
  {
   "cell_type": "code",
   "execution_count": null,
   "metadata": {
    "collapsed": true
   },
   "outputs": [],
   "source": []
  },
  {
   "cell_type": "code",
   "execution_count": null,
   "metadata": {
    "collapsed": true
   },
   "outputs": [],
   "source": []
  },
  {
   "cell_type": "code",
   "execution_count": null,
   "metadata": {
    "collapsed": true
   },
   "outputs": [],
   "source": []
  },
  {
   "cell_type": "code",
   "execution_count": null,
   "metadata": {
    "collapsed": true
   },
   "outputs": [],
   "source": []
  },
  {
   "cell_type": "code",
   "execution_count": null,
   "metadata": {
    "collapsed": true
   },
   "outputs": [],
   "source": []
  },
  {
   "cell_type": "code",
   "execution_count": null,
   "metadata": {
    "collapsed": true
   },
   "outputs": [],
   "source": []
  }
 ],
 "metadata": {
  "kernelspec": {
   "display_name": "Python 3",
   "language": "python",
   "name": "python3"
  },
  "language_info": {
   "codemirror_mode": {
    "name": "ipython",
    "version": 3
   },
   "file_extension": ".py",
   "mimetype": "text/x-python",
   "name": "python",
   "nbconvert_exporter": "python",
   "pygments_lexer": "ipython3",
   "version": "3.6.0"
  }
 },
 "nbformat": 4,
 "nbformat_minor": 2
}
