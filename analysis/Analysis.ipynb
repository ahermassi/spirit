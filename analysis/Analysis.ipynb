{
 "cells": [
  {
   "cell_type": "code",
   "execution_count": 1,
   "metadata": {
    "collapsed": true
   },
   "outputs": [],
   "source": [
    "from __future__ import division, print_function\n",
    "import glob"
   ]
  },
  {
   "cell_type": "code",
   "execution_count": 2,
   "metadata": {
    "collapsed": false
   },
   "outputs": [],
   "source": [
    "import matplotlib.pyplot as plt\n",
    "import numpy as np\n",
    "import pandas as pd\n",
    "import rosbag_pandas\n",
    "from scipy.spatial import Voronoi, voronoi_plot_2d\n",
    "\n",
    "%matplotlib inline"
   ]
  },
  {
   "cell_type": "code",
   "execution_count": 3,
   "metadata": {
    "collapsed": true,
    "scrolled": true
   },
   "outputs": [],
   "source": [
    "from collections import namedtuple\n",
    "Coords = namedtuple(\"Coords\", \"x y\")"
   ]
  },
  {
   "cell_type": "code",
   "execution_count": 4,
   "metadata": {
    "collapsed": true
   },
   "outputs": [],
   "source": [
    "from enum import Enum\n",
    "DroneState = Enum(\"DroneState\",\n",
    "                  \"Emergency Inited Landed Flying Hovering Test TakingOff GotoHover Landing Looping\",\n",
    "                  start=0)"
   ]
  },
  {
   "cell_type": "code",
   "execution_count": 5,
   "metadata": {
    "collapsed": false
   },
   "outputs": [],
   "source": [
    "from record_bagfiles import ROSBAG_TOPICS"
   ]
  },
  {
   "cell_type": "code",
   "execution_count": 6,
   "metadata": {
    "collapsed": true
   },
   "outputs": [],
   "source": [
    "def remove_image_topics(topics):\n",
    "    return [topic for topic in topics if topic not in (\"/ardrone/past_image\", \"/ardrone/slow_image_raw\")]"
   ]
  },
  {
   "cell_type": "code",
   "execution_count": 7,
   "metadata": {
    "collapsed": false
   },
   "outputs": [
    {
     "data": {
      "text/plain": [
       "['/ardrone/ground_pose',\n",
       " '/ardrone/imu',\n",
       " '/ardrone/navdata',\n",
       " '/ardrone/past_pose',\n",
       " '/ardrone/pose',\n",
       " '/ardrone/tracked',\n",
       " '/ardrone/arrived']"
      ]
     },
     "execution_count": 7,
     "metadata": {},
     "output_type": "execute_result"
    }
   ],
   "source": [
    "TOPICS_TO_LOAD = remove_image_topics(ROSBAG_TOPICS)\n",
    "TOPICS_TO_LOAD"
   ]
  },
  {
   "cell_type": "code",
   "execution_count": 8,
   "metadata": {
    "collapsed": true
   },
   "outputs": [],
   "source": [
    "TOPICS_SUMMARIZED = [\n",
    "    \"/ardrone/arrived\",\n",
    "    \"/ardrone/ground_pose\",\n",
    "    \"/ardrone/pose\"\n",
    "]"
   ]
  },
  {
   "cell_type": "code",
   "execution_count": 9,
   "metadata": {
    "collapsed": true
   },
   "outputs": [],
   "source": [
    "TARGET_COORD_OFFSETS = [Coords(0, 0), Coords(-1, 3.6), Coords(-2, 1.6)]"
   ]
  },
  {
   "cell_type": "code",
   "execution_count": 10,
   "metadata": {
    "collapsed": false
   },
   "outputs": [],
   "source": [
    "def pad_bag(df):\n",
    "    df.fillna(method=\"pad\", inplace=True)\n",
    "    df.fillna(method=\"backfill\", inplace=True)"
   ]
  },
  {
   "cell_type": "code",
   "execution_count": 11,
   "metadata": {
    "collapsed": true
   },
   "outputs": [],
   "source": [
    "def load_bag(filename, include=TOPICS_TO_LOAD):\n",
    "    df = rosbag_pandas.bag_to_dataframe(filename, include=include)\n",
    "    pad_bag(df)\n",
    "    return df"
   ]
  },
  {
   "cell_type": "code",
   "execution_count": 12,
   "metadata": {
    "collapsed": true
   },
   "outputs": [],
   "source": [
    "def plot_xy(df, x=\"x\", y=\"y\", invert_x=True, invert_y=True, s=None, c=None,\n",
    "            cmap=\"viridis\", alpha=1, show_cbar=True, label=None, line=False):\n",
    "    \"\"\"\n",
    "    Coords in real frame. +x is towards doors, +y is away from table.\n",
    "    \n",
    "    \"\"\"\n",
    "    if s is not None:\n",
    "        s = df[s]*25\n",
    "    if c is not None:\n",
    "        label = c\n",
    "        try:\n",
    "            df[c]\n",
    "        except KeyError:\n",
    "            pass\n",
    "        else:\n",
    "            c = df[c]\n",
    "    else:\n",
    "        if line:\n",
    "            c = \"C0\"\n",
    "        else:\n",
    "            c = df.index\n",
    "            label=\"time\"\n",
    "    \n",
    "    if line:\n",
    "        plt.plot(df[x] * (-1 if invert_x else 1), df[y] * (-1 if invert_y else 1), c=c, alpha=alpha)\n",
    "    else:\n",
    "        plt.scatter(df[x] * (-1 if invert_x else 1), df[y] * (-1 if invert_y else 1), s=s, c=c, cmap=cmap, alpha=alpha)\n",
    "        if show_cbar:\n",
    "            plt.colorbar(label=label)\n",
    "    plt.axis(\"equal\")"
   ]
  },
  {
   "cell_type": "code",
   "execution_count": 13,
   "metadata": {
    "collapsed": false
   },
   "outputs": [],
   "source": [
    "def plot_xy_conditional(df, condition=None, x=\"x\", y=\"y\", invert_x=True, invert_y=True,\n",
    "                        s=None, c=None, c_condition=None, cmap_condition=\"viridis\", cmap_not_condition=\"gray\",\n",
    "                        alpha_condition=1, alpha_not_condition=1, show_cbar=True, label=None, line=False):\n",
    "    if condition is None:\n",
    "        cmap_not_condition = cmap_condition\n",
    "    plot_xy(df, x=x, y=y, invert_x=invert_x, invert_y=invert_y,\n",
    "            s=s, c=c, cmap=cmap_not_condition, alpha=alpha_not_condition, show_cbar=show_cbar, label=label, line=line)\n",
    "    if condition is not None:\n",
    "        if line:\n",
    "            show_cbar = False\n",
    "            if c_condition is None:\n",
    "                c = \"C0\"\n",
    "            else:\n",
    "                c = c_condition\n",
    "        plot_xy(df[condition], x=x, y=y, invert_x=invert_x, invert_y=invert_y,\n",
    "                s=s, c=c, cmap=cmap_condition, alpha=alpha_condition, show_cbar=show_cbar, label=label)"
   ]
  },
  {
   "cell_type": "code",
   "execution_count": 14,
   "metadata": {
    "collapsed": false
   },
   "outputs": [],
   "source": [
    "def plot_targets(df, x=\"x\", y=\"y\", invert_x=True, invert_y=True,\n",
    "                 target_coords=None, target_coord_offsets=None, target_color=\"r\",\n",
    "                 show_start=True, show_final=True,\n",
    "                 scale=100):\n",
    "    if target_coords is not None and target_coord_offsets is not None:\n",
    "        raise ValueError(\"Use either target_coords or target_coord_offsets\")\n",
    "        \n",
    "    p_init = Coords(df[x][0], df[y][0])\n",
    "    p_final = Coords(df[x][-1], df[y][-1])\n",
    "    \n",
    "    if target_coords is None:\n",
    "        if target_coord_offsets is None:\n",
    "            target_coord_offsets = TARGET_COORD_OFFSETS\n",
    "        target_coords = [Coords(p_init.x - offset.x, p_init.y - offset.y) for offset in target_coord_offsets]\n",
    "    \n",
    "    if show_start:\n",
    "        plt.scatter(-p_init.x, -p_init.y, marker=(5, 0), s=100, c=\"g\")\n",
    "    for coord in target_coords:\n",
    "        plt.scatter(coord.x * (-1 if invert_x else 1), coord.y * (-1 if invert_y else 1), marker=(5, 1), s=scale, c=\"m\")    \n",
    "    if show_final:\n",
    "        plt.scatter(p_final.x * (-1 if invert_x else 1), p_final.y * (-1 if invert_y else 1), marker=(3, 0), s=scale, c=\"r\")\n",
    "    plt.axis(\"equal\")"
   ]
  },
  {
   "cell_type": "code",
   "execution_count": 15,
   "metadata": {
    "collapsed": true
   },
   "outputs": [],
   "source": [
    "def rename_columns(df):\n",
    "    df.columns = [\"arrived\", \"angle\", \"gx\", \"gy\", \"qa\", \"qb\", \"qc\", \"qd\", \"x\", \"y\", \"z\"]"
   ]
  },
  {
   "cell_type": "code",
   "execution_count": 16,
   "metadata": {
    "collapsed": true
   },
   "outputs": [],
   "source": [
    "def normalize_columns(df):\n",
    "    df[\"xn\"] = df.x - df.x[0]\n",
    "    df[\"yn\"] = df.y - df.y[0]"
   ]
  },
  {
   "cell_type": "raw",
   "metadata": {},
   "source": [
    "df0 = load_bag(\"bagfiles/2017-01-10-23-30-49.bigbag\")"
   ]
  },
  {
   "cell_type": "code",
   "execution_count": 126,
   "metadata": {
    "collapsed": false
   },
   "outputs": [
    {
     "data": {
      "image/png": "[encoded data removed]",
      "text/plain": [
       "<matplotlib.figure.Figure at 0x7f91e2828d50>"
      ]
     },
     "metadata": {},
     "output_type": "display_data"
    }
   ],
   "source": [
    "plot_xy(df0, \"ardrone_ground_pose__x\", \"ardrone_ground_pose__y\")\n",
    "plot_targets(df0, \"ardrone_ground_pose__x\", \"ardrone_ground_pose__y\")"
   ]
  },
  {
   "cell_type": "code",
   "execution_count": 127,
   "metadata": {
    "collapsed": false
   },
   "outputs": [
    {
     "data": {
      "image/png": "[encoded data removed]",
      "text/plain": [
       "<matplotlib.figure.Figure at 0x7f91e280f590>"
      ]
     },
     "metadata": {},
     "output_type": "display_data"
    }
   ],
   "source": [
    "plot_xy(df0, \"ardrone_ground_pose__x\", \"ardrone_ground_pose__y\",\n",
    "        s=\"ardrone_pose__pose_position_z\", c=\"ardrone_pose__pose_position_z\")\n",
    "plot_targets(df0, \"ardrone_ground_pose__x\", \"ardrone_ground_pose__y\")"
   ]
  },
  {
   "cell_type": "code",
   "execution_count": 128,
   "metadata": {
    "collapsed": false
   },
   "outputs": [
    {
     "data": {
      "image/png": "[encoded data removed]",
      "text/plain": [
       "<matplotlib.figure.Figure at 0x7f91d670ce90>"
      ]
     },
     "metadata": {},
     "output_type": "display_data"
    }
   ],
   "source": [
    "plot_xy(df0, \"ardrone_ground_pose__x\", \"ardrone_ground_pose__y\",\n",
    "        s=\"ardrone_pose__pose_position_z\", c=\"ardrone_pose__pose_position_z\", cmap=\"gray\", alpha=0.002, show_cbar=False)\n",
    "plot_xy(df0[df0.ardrone_navdata__state==DroneState.Hovering.value], \"ardrone_ground_pose__x\", \"ardrone_ground_pose__y\",\n",
    "        s=\"ardrone_pose__pose_position_z\", c=\"ardrone_pose__pose_position_z\")\n",
    "plot_targets(df0, \"ardrone_ground_pose__x\", \"ardrone_ground_pose__y\")"
   ]
  },
  {
   "cell_type": "code",
   "execution_count": 129,
   "metadata": {
    "collapsed": false
   },
   "outputs": [
    {
     "data": {
      "image/png": "[encoded data removed]",
      "text/plain": [
       "<matplotlib.figure.Figure at 0x7f91e1b92850>"
      ]
     },
     "metadata": {},
     "output_type": "display_data"
    }
   ],
   "source": [
    "plot_xy(df0[df0.ardrone_navdata__state==DroneState.Hovering.value], \"ardrone_ground_pose__x\", \"ardrone_ground_pose__y\",\n",
    "        s=\"ardrone_pose__pose_position_z\", c=\"ardrone_pose__pose_position_z\")\n",
    "plot_targets(df0, \"ardrone_ground_pose__x\", \"ardrone_ground_pose__y\")"
   ]
  },
  {
   "cell_type": "code",
   "execution_count": 15,
   "metadata": {
    "collapsed": true
   },
   "outputs": [],
   "source": [
    "df = load_bag(\"bagfiles/experiment-2_user-00_run-01.bag\")"
   ]
  },
  {
   "cell_type": "code",
   "execution_count": 16,
   "metadata": {
    "collapsed": false
   },
   "outputs": [
    {
     "data": {
      "text/plain": [
       "Index([u'ardrone_arrived__data', u'ardrone_ground_pose__theta',\n",
       "       u'ardrone_ground_pose__x', u'ardrone_ground_pose__y',\n",
       "       u'ardrone_imu__angular_velocity_covariance0',\n",
       "       u'ardrone_imu__angular_velocity_covariance1',\n",
       "       u'ardrone_imu__angular_velocity_covariance2',\n",
       "       u'ardrone_imu__angular_velocity_covariance3',\n",
       "       u'ardrone_imu__angular_velocity_covariance4',\n",
       "       u'ardrone_imu__angular_velocity_covariance5',\n",
       "       u'ardrone_imu__angular_velocity_covariance6',\n",
       "       u'ardrone_imu__angular_velocity_covariance7',\n",
       "       u'ardrone_imu__angular_velocity_covariance8',\n",
       "       u'ardrone_imu__angular_velocity_x', u'ardrone_imu__angular_velocity_y',\n",
       "       u'ardrone_imu__angular_velocity_z',\n",
       "       u'ardrone_imu__linear_acceleration_covariance0',\n",
       "       u'ardrone_imu__linear_acceleration_covariance1',\n",
       "       u'ardrone_imu__linear_acceleration_covariance2',\n",
       "       u'ardrone_imu__linear_acceleration_covariance3',\n",
       "       u'ardrone_imu__linear_acceleration_covariance4',\n",
       "       u'ardrone_imu__linear_acceleration_covariance5',\n",
       "       u'ardrone_imu__linear_acceleration_covariance6',\n",
       "       u'ardrone_imu__linear_acceleration_covariance7',\n",
       "       u'ardrone_imu__linear_acceleration_covariance8',\n",
       "       u'ardrone_imu__linear_acceleration_x',\n",
       "       u'ardrone_imu__linear_acceleration_y',\n",
       "       u'ardrone_imu__linear_acceleration_z',\n",
       "       u'ardrone_imu__orientation_covariance0',\n",
       "       u'ardrone_imu__orientation_covariance1',\n",
       "       u'ardrone_imu__orientation_covariance2',\n",
       "       u'ardrone_imu__orientation_covariance3',\n",
       "       u'ardrone_imu__orientation_covariance4',\n",
       "       u'ardrone_imu__orientation_covariance5',\n",
       "       u'ardrone_imu__orientation_covariance6',\n",
       "       u'ardrone_imu__orientation_covariance7',\n",
       "       u'ardrone_imu__orientation_covariance8', u'ardrone_imu__orientation_w',\n",
       "       u'ardrone_imu__orientation_x', u'ardrone_imu__orientation_y',\n",
       "       u'ardrone_imu__orientation_z', u'ardrone_navdata__altd',\n",
       "       u'ardrone_navdata__ax', u'ardrone_navdata__ay', u'ardrone_navdata__az',\n",
       "       u'ardrone_navdata__batteryPercent', u'ardrone_navdata__magX',\n",
       "       u'ardrone_navdata__magY', u'ardrone_navdata__magZ',\n",
       "       u'ardrone_navdata__motor1', u'ardrone_navdata__motor2',\n",
       "       u'ardrone_navdata__motor3', u'ardrone_navdata__motor4',\n",
       "       u'ardrone_navdata__pressure', u'ardrone_navdata__rotX',\n",
       "       u'ardrone_navdata__rotY', u'ardrone_navdata__rotZ',\n",
       "       u'ardrone_navdata__state', u'ardrone_navdata__tags_count',\n",
       "       u'ardrone_navdata__temp', u'ardrone_navdata__tm',\n",
       "       u'ardrone_navdata__vx', u'ardrone_navdata__vy', u'ardrone_navdata__vz',\n",
       "       u'ardrone_navdata__wind_angle', u'ardrone_navdata__wind_comp_angle',\n",
       "       u'ardrone_navdata__wind_speed',\n",
       "       u'ardrone_past_pose__pose_orientation_w',\n",
       "       u'ardrone_past_pose__pose_orientation_x',\n",
       "       u'ardrone_past_pose__pose_orientation_y',\n",
       "       u'ardrone_past_pose__pose_orientation_z',\n",
       "       u'ardrone_past_pose__pose_position_x',\n",
       "       u'ardrone_past_pose__pose_position_y',\n",
       "       u'ardrone_past_pose__pose_position_z',\n",
       "       u'ardrone_pose__pose_orientation_w',\n",
       "       u'ardrone_pose__pose_orientation_x',\n",
       "       u'ardrone_pose__pose_orientation_y',\n",
       "       u'ardrone_pose__pose_orientation_z', u'ardrone_pose__pose_position_x',\n",
       "       u'ardrone_pose__pose_position_y', u'ardrone_pose__pose_position_z',\n",
       "       u'ardrone_tracked__data'],\n",
       "      dtype='object')"
      ]
     },
     "execution_count": 16,
     "metadata": {},
     "output_type": "execute_result"
    }
   ],
   "source": [
    "df.columns"
   ]
  },
  {
   "cell_type": "code",
   "execution_count": 18,
   "metadata": {
    "collapsed": false
   },
   "outputs": [],
   "source": [
    "target_coords = [Coords(df.ardrone_ground_pose__x[0] - offset.x, df.ardrone_ground_pose__y[0] - offset.y)\n",
    "                 for offset in TARGET_COORD_OFFSETS]"
   ]
  },
  {
   "cell_type": "code",
   "execution_count": 19,
   "metadata": {
    "collapsed": false
   },
   "outputs": [
    {
     "data": {
      "text/plain": [
       "[Coords(x=-0.13781246542930603, y=0.28022757172584534),\n",
       " Coords(x=0.86218753457069397, y=-3.3197724282741548),\n",
       " Coords(x=1.862187534570694, y=-1.3197724282741548)]"
      ]
     },
     "execution_count": 19,
     "metadata": {},
     "output_type": "execute_result"
    }
   ],
   "source": [
    "target_coords"
   ]
  },
  {
   "cell_type": "code",
   "execution_count": 20,
   "metadata": {
    "collapsed": false
   },
   "outputs": [
    {
     "data": {
      "image/png": "[encoded data removed]",
      "text/plain": [
       "<matplotlib.figure.Figure at 0x7fdc14972110>"
      ]
     },
     "metadata": {},
     "output_type": "display_data"
    }
   ],
   "source": [
    "plot_xy(df, \"ardrone_ground_pose__x\", \"ardrone_ground_pose__y\", c=\"ardrone_pose__pose_position_z\",\n",
    "        s=\"ardrone_pose__pose_position_z\")\n",
    "plot_targets(df, \"ardrone_ground_pose__x\", \"ardrone_ground_pose__y\")"
   ]
  },
  {
   "cell_type": "code",
   "execution_count": 21,
   "metadata": {
    "collapsed": false
   },
   "outputs": [
    {
     "data": {
      "image/png": "[encoded data removed]",
      "text/plain": [
       "<matplotlib.figure.Figure at 0x7fdbe42b4610>"
      ]
     },
     "metadata": {},
     "output_type": "display_data"
    }
   ],
   "source": [
    "plot_xy(df, \"ardrone_ground_pose__x\", \"ardrone_ground_pose__y\",\n",
    "        s=\"ardrone_pose__pose_position_z\", c=\"ardrone_pose__pose_position_z\", cmap=\"gray\", alpha=0.002, show_cbar=False)\n",
    "plot_xy(df[df.ardrone_arrived__data==1],\n",
    "        \"ardrone_ground_pose__x\", \"ardrone_ground_pose__y\",\n",
    "        c=\"ardrone_pose__pose_position_z\", s=\"ardrone_pose__pose_position_z\", cmap=\"magma\")\n",
    "plot_targets(df, \"ardrone_ground_pose__x\", \"ardrone_ground_pose__y\")"
   ]
  },
  {
   "cell_type": "code",
   "execution_count": 22,
   "metadata": {
    "collapsed": false
   },
   "outputs": [
    {
     "data": {
      "image/png": "[encoded data removed]",
      "text/plain": [
       "<matplotlib.figure.Figure at 0x7fdbe40edb10>"
      ]
     },
     "metadata": {},
     "output_type": "display_data"
    }
   ],
   "source": [
    "plot_xy(df[df.ardrone_arrived__data==1],\n",
    "        \"ardrone_ground_pose__x\", \"ardrone_ground_pose__y\",\n",
    "        c=\"ardrone_pose__pose_position_z\", s=\"ardrone_pose__pose_position_z\")"
   ]
  },
  {
   "cell_type": "code",
   "execution_count": 23,
   "metadata": {
    "collapsed": false
   },
   "outputs": [],
   "source": [
    "arrived_periods = df[df.ardrone_arrived__data == 1]"
   ]
  },
  {
   "cell_type": "code",
   "execution_count": 24,
   "metadata": {
    "collapsed": false
   },
   "outputs": [
    {
     "data": {
      "text/plain": [
       "Timedelta('0 days 00:02:25.250908')"
      ]
     },
     "execution_count": 24,
     "metadata": {},
     "output_type": "execute_result"
    }
   ],
   "source": [
    "duration = df.index[-1] - df.index[0]\n",
    "duration"
   ]
  },
  {
   "cell_type": "code",
   "execution_count": 25,
   "metadata": {
    "collapsed": false
   },
   "outputs": [
    {
     "data": {
      "text/plain": [
       "<matplotlib.axes._subplots.AxesSubplot at 0x7fdbe3faec50>"
      ]
     },
     "execution_count": 25,
     "metadata": {},
     "output_type": "execute_result"
    },
    {
     "data": {
      "image/png": "[encoded data removed]",
      "text/plain": [
       "<matplotlib.figure.Figure at 0x7fdbe3fb9390>"
      ]
     },
     "metadata": {},
     "output_type": "display_data"
    }
   ],
   "source": [
    "df.ardrone_arrived__data.plot()"
   ]
  },
  {
   "cell_type": "code",
   "execution_count": 26,
   "metadata": {
    "collapsed": false
   },
   "outputs": [
    {
     "data": {
      "text/plain": [
       "777"
      ]
     },
     "execution_count": 26,
     "metadata": {},
     "output_type": "execute_result"
    }
   ],
   "source": [
    "len(arrived_periods)"
   ]
  },
  {
   "cell_type": "code",
   "execution_count": 28,
   "metadata": {
    "collapsed": false
   },
   "outputs": [],
   "source": [
    "a = np.where(np.diff([0, 0, 1, 1, 0, 1, 1, 1, 0, 0]))[0]"
   ]
  },
  {
   "cell_type": "code",
   "execution_count": 29,
   "metadata": {
    "collapsed": false
   },
   "outputs": [
    {
     "data": {
      "text/plain": [
       "array([1, 3, 4, 7])"
      ]
     },
     "execution_count": 29,
     "metadata": {},
     "output_type": "execute_result"
    }
   ],
   "source": [
    "a"
   ]
  },
  {
   "cell_type": "code",
   "execution_count": 30,
   "metadata": {
    "collapsed": false
   },
   "outputs": [
    {
     "data": {
      "text/plain": [
       "[(1, 3), (4, 7)]"
      ]
     },
     "execution_count": 30,
     "metadata": {},
     "output_type": "execute_result"
    }
   ],
   "source": [
    "zip(a[::2], a[1::2])"
   ]
  },
  {
   "cell_type": "markdown",
   "metadata": {},
   "source": [
    "So, the first of each pair is the index of the zero, and the second is that of the last 1."
   ]
  },
  {
   "cell_type": "code",
   "execution_count": 31,
   "metadata": {
    "collapsed": false
   },
   "outputs": [
    {
     "data": {
      "text/plain": [
       "(array([36244, 36690, 69735, 70066]),)"
      ]
     },
     "execution_count": 31,
     "metadata": {},
     "output_type": "execute_result"
    }
   ],
   "source": [
    "np.where(np.diff(df.ardrone_arrived__data))"
   ]
  },
  {
   "cell_type": "code",
   "execution_count": 32,
   "metadata": {
    "collapsed": true
   },
   "outputs": [],
   "source": [
    "df[\"angle_degree\"] = np.rad2deg(df.ardrone_ground_pose__theta)"
   ]
  },
  {
   "cell_type": "code",
   "execution_count": 33,
   "metadata": {
    "collapsed": false
   },
   "outputs": [],
   "source": [
    "df[\"tag\"] = (df.ardrone_arrived__data.diff(1) != 0).astype('int').cumsum()"
   ]
  },
  {
   "cell_type": "code",
   "execution_count": 34,
   "metadata": {
    "collapsed": false
   },
   "outputs": [
    {
     "data": {
      "image/png": "[encoded data removed]",
      "text/plain": [
       "<matplotlib.figure.Figure at 0x7fdbe4098390>"
      ]
     },
     "metadata": {},
     "output_type": "display_data"
    }
   ],
   "source": [
    "plot_xy(df, \"ardrone_ground_pose__x\", \"ardrone_ground_pose__y\", c=\"angle_degree\", s=\"ardrone_pose__pose_position_z\", cmap=\"gray\")\n",
    "plot_xy(df[df.ardrone_arrived__data == 1], \"ardrone_ground_pose__x\", \"ardrone_ground_pose__y\", c=\"angle_degree\", s=\"ardrone_pose__pose_position_z\")\n",
    "plot_targets(df, \"ardrone_ground_pose__x\", \"ardrone_ground_pose__y\")"
   ]
  },
  {
   "cell_type": "code",
   "execution_count": 35,
   "metadata": {
    "collapsed": false
   },
   "outputs": [],
   "source": [
    "df0 = df[[\"ardrone_arrived__data\", \"ardrone_ground_pose__x\", \"ardrone_ground_pose__y\", \"ardrone_pose__pose_position_z\", \"angle_degree\", \"tag\"]]\n",
    "df0.columns = [\"arrived\", \"x\", \"y\", \"z\", \"angle\", \"region\"]"
   ]
  },
  {
   "cell_type": "code",
   "execution_count": 36,
   "metadata": {
    "collapsed": false
   },
   "outputs": [
    {
     "data": {
      "image/png": "[encoded data removed]",
      "text/plain": [
       "<matplotlib.figure.Figure at 0x7fdbe40f9cd0>"
      ]
     },
     "metadata": {},
     "output_type": "display_data"
    }
   ],
   "source": [
    "plot_xy(df0, \"x\", \"y\", s=\"z\", c=\"angle\", cmap=\"gray\")\n",
    "plot_xy(df0[df0.arrived==1], \"x\", \"y\", s=\"z\", c=\"angle\")\n",
    "plot_targets(df0, \"x\", \"y\")"
   ]
  },
  {
   "cell_type": "code",
   "execution_count": 37,
   "metadata": {
    "collapsed": false
   },
   "outputs": [
    {
     "data": {
      "image/png": "[encoded data removed]",
      "text/plain": [
       "<matplotlib.figure.Figure at 0x7fdbe411d3d0>"
      ]
     },
     "metadata": {},
     "output_type": "display_data"
    }
   ],
   "source": [
    "plot_xy_conditional(df0, df0.arrived == 1, s=\"z\", c=\"angle\")\n",
    "plot_targets(df0, \"x\", \"y\")"
   ]
  },
  {
   "cell_type": "code",
   "execution_count": 38,
   "metadata": {
    "collapsed": false
   },
   "outputs": [],
   "source": [
    "from scipy.spatial import Voronoi, voronoi_plot_2d"
   ]
  },
  {
   "cell_type": "code",
   "execution_count": 46,
   "metadata": {
    "collapsed": false
   },
   "outputs": [
    {
     "data": {
      "image/png": "[encoded data removed]",
      "text/plain": [
       "<matplotlib.figure.Figure at 0x7fdc036c8250>"
      ]
     },
     "execution_count": 46,
     "metadata": {},
     "output_type": "execute_result"
    },
    {
     "data": {
      "image/png": "[encoded data removed]",
      "text/plain": [
       "<matplotlib.figure.Figure at 0x7fdc036c8250>"
      ]
     },
     "metadata": {},
     "output_type": "display_data"
    }
   ],
   "source": [
    "voronoi_plot_2d(Voronoi([[-x, -y] for x, y in target_coords]))"
   ]
  },
  {
   "cell_type": "code",
   "execution_count": 40,
   "metadata": {
    "collapsed": false
   },
   "outputs": [
    {
     "data": {
      "image/png": "[encoded data removed]",
      "text/plain": [
       "<matplotlib.figure.Figure at 0x7fdc146670d0>"
      ]
     },
     "metadata": {},
     "output_type": "display_data"
    }
   ],
   "source": [
    "voronoi_plot_2d(Voronoi([[-x, -y] for x, y in target_coords]))\n",
    "plot_targets(df0, \"x\", \"y\")"
   ]
  },
  {
   "cell_type": "code",
   "execution_count": 41,
   "metadata": {
    "collapsed": false,
    "scrolled": true
   },
   "outputs": [
    {
     "data": {
      "image/png": "[encoded data removed]",
      "text/plain": [
       "<matplotlib.figure.Figure at 0x7fdc146315d0>"
      ]
     },
     "metadata": {},
     "output_type": "display_data"
    }
   ],
   "source": [
    "voronoi_plot_2d(Voronoi([[-x, -y] for x, y in target_coords]))\n",
    "plot_xy_conditional(df0, df0.arrived == 1, s=\"z\", c=\"angle\")\n",
    "plot_targets(df0, \"x\", \"y\")"
   ]
  },
  {
   "cell_type": "code",
   "execution_count": 42,
   "metadata": {
    "collapsed": false
   },
   "outputs": [
    {
     "data": {
      "text/plain": [
       "[Coords(x=-0.13781246542930603, y=0.28022757172584534),\n",
       " Coords(x=0.86218753457069397, y=-3.3197724282741548),\n",
       " Coords(x=1.862187534570694, y=-1.3197724282741548)]"
      ]
     },
     "execution_count": 42,
     "metadata": {},
     "output_type": "execute_result"
    }
   ],
   "source": [
    "target_coords"
   ]
  },
  {
   "cell_type": "code",
   "execution_count": 69,
   "metadata": {
    "collapsed": false
   },
   "outputs": [
    {
     "name": "stdout",
     "output_type": "stream",
     "text": [
      "1: 0.000185314537303 m difference; (dx=-0.00, dy=0.00)\n",
      "2: 0.424258824514 m difference; (dx=0.42, dy=0.07)\n"
     ]
    }
   ],
   "source": [
    "for region, coord in zip(range(2, max(df0.region)+1, 2), target_coords):\n",
    "    found = df0[df0.region == region]\n",
    "    diff = Coords(found.x.mean() - coord.x, found.y.mean() - coord.y)\n",
    "    print(\"{:.0f}: {} m difference; (dx={:.2f}, dy={:.2f})\".format(region/2, np.linalg.norm(diff), diff.x, diff.y))"
   ]
  },
  {
   "cell_type": "markdown",
   "metadata": {
    "collapsed": true
   },
   "source": [
    "What to do with random presses of arrived? Set a minimum time pressed? Minimum sequence length? Something else?"
   ]
  },
  {
   "cell_type": "code",
   "execution_count": 49,
   "metadata": {
    "collapsed": true
   },
   "outputs": [],
   "source": [
    "found = df0[df0.region == 4]\n",
    "coords = target_coords[1]"
   ]
  },
  {
   "cell_type": "code",
   "execution_count": 67,
   "metadata": {
    "collapsed": false
   },
   "outputs": [],
   "source": [
    "rms = np.array([np.sqrt((x - coords.x)**2 + (y - coords.y)**2) for x, y in zip(found.x.values, found.y.values)])"
   ]
  },
  {
   "cell_type": "code",
   "execution_count": 73,
   "metadata": {
    "collapsed": false
   },
   "outputs": [
    {
     "data": {
      "text/plain": [
       "0.42428997406065783"
      ]
     },
     "execution_count": 73,
     "metadata": {},
     "output_type": "execute_result"
    }
   ],
   "source": [
    "rms.mean()"
   ]
  },
  {
   "cell_type": "code",
   "execution_count": 72,
   "metadata": {
    "collapsed": false
   },
   "outputs": [
    {
     "data": {
      "text/plain": [
       "0.014703301074901167"
      ]
     },
     "execution_count": 72,
     "metadata": {},
     "output_type": "execute_result"
    }
   ],
   "source": [
    "rms.std()"
   ]
  },
  {
   "cell_type": "code",
   "execution_count": null,
   "metadata": {
    "collapsed": true
   },
   "outputs": [],
   "source": []
  },
  {
   "cell_type": "code",
   "execution_count": null,
   "metadata": {
    "collapsed": true
   },
   "outputs": [],
   "source": []
  },
  {
   "cell_type": "markdown",
   "metadata": {},
   "source": [
    "# Straight line"
   ]
  },
  {
   "cell_type": "code",
   "execution_count": 17,
   "metadata": {
    "collapsed": false
   },
   "outputs": [
    {
     "data": {
      "text/html": [
       "<div>\n",
       "<table border=\"1\" class=\"dataframe\">\n",
       "  <thead>\n",
       "    <tr style=\"text-align: right;\">\n",
       "      <th></th>\n",
       "      <th>arrived</th>\n",
       "      <th>angle</th>\n",
       "      <th>gx</th>\n",
       "      <th>gy</th>\n",
       "      <th>qa</th>\n",
       "      <th>qb</th>\n",
       "      <th>qc</th>\n",
       "      <th>qd</th>\n",
       "      <th>x</th>\n",
       "      <th>y</th>\n",
       "      <th>z</th>\n",
       "      <th>xn</th>\n",
       "      <th>yn</th>\n",
       "    </tr>\n",
       "  </thead>\n",
       "  <tbody>\n",
       "    <tr>\n",
       "      <th>2017-02-03 03:16:15.275017728</th>\n",
       "      <td>0.0</td>\n",
       "      <td>-0.129235</td>\n",
       "      <td>0.018363</td>\n",
       "      <td>2.772829</td>\n",
       "      <td>0.995017</td>\n",
       "      <td>-0.07567</td>\n",
       "      <td>-0.001905</td>\n",
       "      <td>-0.064899</td>\n",
       "      <td>0.018363</td>\n",
       "      <td>2.772829</td>\n",
       "      <td>0.077707</td>\n",
       "      <td>0.0</td>\n",
       "      <td>0.0</td>\n",
       "    </tr>\n",
       "    <tr>\n",
       "      <th>2017-02-03 03:16:15.275212032</th>\n",
       "      <td>0.0</td>\n",
       "      <td>-0.129235</td>\n",
       "      <td>0.018363</td>\n",
       "      <td>2.772829</td>\n",
       "      <td>0.995017</td>\n",
       "      <td>-0.07567</td>\n",
       "      <td>-0.001905</td>\n",
       "      <td>-0.064899</td>\n",
       "      <td>0.018363</td>\n",
       "      <td>2.772829</td>\n",
       "      <td>0.077707</td>\n",
       "      <td>0.0</td>\n",
       "      <td>0.0</td>\n",
       "    </tr>\n",
       "    <tr>\n",
       "      <th>2017-02-03 03:16:15.283625216</th>\n",
       "      <td>0.0</td>\n",
       "      <td>-0.129235</td>\n",
       "      <td>0.018363</td>\n",
       "      <td>2.772829</td>\n",
       "      <td>0.995017</td>\n",
       "      <td>-0.07567</td>\n",
       "      <td>-0.001905</td>\n",
       "      <td>-0.064899</td>\n",
       "      <td>0.018363</td>\n",
       "      <td>2.772829</td>\n",
       "      <td>0.077707</td>\n",
       "      <td>0.0</td>\n",
       "      <td>0.0</td>\n",
       "    </tr>\n",
       "    <tr>\n",
       "      <th>2017-02-03 03:16:15.283373824</th>\n",
       "      <td>0.0</td>\n",
       "      <td>-0.129235</td>\n",
       "      <td>0.018363</td>\n",
       "      <td>2.772829</td>\n",
       "      <td>0.995017</td>\n",
       "      <td>-0.07567</td>\n",
       "      <td>-0.001905</td>\n",
       "      <td>-0.064899</td>\n",
       "      <td>0.018363</td>\n",
       "      <td>2.772829</td>\n",
       "      <td>0.077707</td>\n",
       "      <td>0.0</td>\n",
       "      <td>0.0</td>\n",
       "    </tr>\n",
       "    <tr>\n",
       "      <th>2017-02-03 03:16:15.292141056</th>\n",
       "      <td>0.0</td>\n",
       "      <td>-0.129235</td>\n",
       "      <td>0.018363</td>\n",
       "      <td>2.772829</td>\n",
       "      <td>0.995017</td>\n",
       "      <td>-0.07567</td>\n",
       "      <td>-0.001905</td>\n",
       "      <td>-0.064899</td>\n",
       "      <td>0.018363</td>\n",
       "      <td>2.772829</td>\n",
       "      <td>0.077707</td>\n",
       "      <td>0.0</td>\n",
       "      <td>0.0</td>\n",
       "    </tr>\n",
       "  </tbody>\n",
       "</table>\n",
       "</div>"
      ],
      "text/plain": [
       "                               arrived     angle        gx        gy  \\\n",
       "2017-02-03 03:16:15.275017728      0.0 -0.129235  0.018363  2.772829   \n",
       "2017-02-03 03:16:15.275212032      0.0 -0.129235  0.018363  2.772829   \n",
       "2017-02-03 03:16:15.283625216      0.0 -0.129235  0.018363  2.772829   \n",
       "2017-02-03 03:16:15.283373824      0.0 -0.129235  0.018363  2.772829   \n",
       "2017-02-03 03:16:15.292141056      0.0 -0.129235  0.018363  2.772829   \n",
       "\n",
       "                                     qa       qb        qc        qd  \\\n",
       "2017-02-03 03:16:15.275017728  0.995017 -0.07567 -0.001905 -0.064899   \n",
       "2017-02-03 03:16:15.275212032  0.995017 -0.07567 -0.001905 -0.064899   \n",
       "2017-02-03 03:16:15.283625216  0.995017 -0.07567 -0.001905 -0.064899   \n",
       "2017-02-03 03:16:15.283373824  0.995017 -0.07567 -0.001905 -0.064899   \n",
       "2017-02-03 03:16:15.292141056  0.995017 -0.07567 -0.001905 -0.064899   \n",
       "\n",
       "                                      x         y         z   xn   yn  \n",
       "2017-02-03 03:16:15.275017728  0.018363  2.772829  0.077707  0.0  0.0  \n",
       "2017-02-03 03:16:15.275212032  0.018363  2.772829  0.077707  0.0  0.0  \n",
       "2017-02-03 03:16:15.283625216  0.018363  2.772829  0.077707  0.0  0.0  \n",
       "2017-02-03 03:16:15.283373824  0.018363  2.772829  0.077707  0.0  0.0  \n",
       "2017-02-03 03:16:15.292141056  0.018363  2.772829  0.077707  0.0  0.0  "
      ]
     },
     "execution_count": 17,
     "metadata": {},
     "output_type": "execute_result"
    }
   ],
   "source": [
    "df = load_bag(\"bagfiles/experiment-1_user-04_run-03.bag\", include=TOPICS_SUMMARIZED)\n",
    "rename_columns(df)\n",
    "normalize_columns(df)\n",
    "df.head()"
   ]
  },
  {
   "cell_type": "code",
   "execution_count": 86,
   "metadata": {
    "collapsed": false
   },
   "outputs": [
    {
     "data": {
      "image/png": "[encoded data removed]",
      "text/plain": [
       "<matplotlib.figure.Figure at 0x7fb2c2da3410>"
      ]
     },
     "metadata": {},
     "output_type": "display_data"
    }
   ],
   "source": [
    "plot_targets(df, x=\"xn\", y=\"yn\", target_coords=[Coords(0, -6)])\n",
    "plot_xy_conditional(df, df.arrived == 1, x=\"xn\", y=\"yn\", line=True)"
   ]
  },
  {
   "cell_type": "code",
   "execution_count": 19,
   "metadata": {
    "collapsed": false
   },
   "outputs": [
    {
     "ename": "KeyError",
     "evalue": "'x'",
     "output_type": "error",
     "traceback": [
      "\u001b[0;31m---------------------------------------------------------------------------\u001b[0m",
      "\u001b[0;31mKeyError\u001b[0m                                  Traceback (most recent call last)",
      "\u001b[0;32m<ipython-input-19-798658b45bde>\u001b[0m in \u001b[0;36m<module>\u001b[0;34m()\u001b[0m\n\u001b[0;32m----> 1\u001b[0;31m \u001b[0mplot_xy\u001b[0m\u001b[0;34m(\u001b[0m\u001b[0mdf\u001b[0m\u001b[0;34m)\u001b[0m\u001b[0;34m\u001b[0m\u001b[0m\n\u001b[0m",
      "\u001b[0;32m<ipython-input-12-8fe4bd8c3797>\u001b[0m in \u001b[0;36mplot_xy\u001b[0;34m(df, x, y, invert_x, invert_y, s, c, cmap, alpha, show_cbar, label, line)\u001b[0m\n\u001b[1;32m     25\u001b[0m         \u001b[0mplt\u001b[0m\u001b[0;34m.\u001b[0m\u001b[0mplot\u001b[0m\u001b[0;34m(\u001b[0m\u001b[0mdf\u001b[0m\u001b[0;34m[\u001b[0m\u001b[0mx\u001b[0m\u001b[0;34m]\u001b[0m \u001b[0;34m*\u001b[0m \u001b[0;34m(\u001b[0m\u001b[0;34m-\u001b[0m\u001b[0;36m1\u001b[0m \u001b[0;32mif\u001b[0m \u001b[0minvert_x\u001b[0m \u001b[0;32melse\u001b[0m \u001b[0;36m1\u001b[0m\u001b[0;34m)\u001b[0m\u001b[0;34m,\u001b[0m \u001b[0mdf\u001b[0m\u001b[0;34m[\u001b[0m\u001b[0my\u001b[0m\u001b[0;34m]\u001b[0m \u001b[0;34m*\u001b[0m \u001b[0;34m(\u001b[0m\u001b[0;34m-\u001b[0m\u001b[0;36m1\u001b[0m \u001b[0;32mif\u001b[0m \u001b[0minvert_y\u001b[0m \u001b[0;32melse\u001b[0m \u001b[0;36m1\u001b[0m\u001b[0;34m)\u001b[0m\u001b[0;34m,\u001b[0m \u001b[0mc\u001b[0m\u001b[0;34m=\u001b[0m\u001b[0mc\u001b[0m\u001b[0;34m,\u001b[0m \u001b[0malpha\u001b[0m\u001b[0;34m=\u001b[0m\u001b[0malpha\u001b[0m\u001b[0;34m)\u001b[0m\u001b[0;34m\u001b[0m\u001b[0m\n\u001b[1;32m     26\u001b[0m     \u001b[0;32melse\u001b[0m\u001b[0;34m:\u001b[0m\u001b[0;34m\u001b[0m\u001b[0m\n\u001b[0;32m---> 27\u001b[0;31m         \u001b[0mplt\u001b[0m\u001b[0;34m.\u001b[0m\u001b[0mscatter\u001b[0m\u001b[0;34m(\u001b[0m\u001b[0mdf\u001b[0m\u001b[0;34m[\u001b[0m\u001b[0mx\u001b[0m\u001b[0;34m]\u001b[0m \u001b[0;34m*\u001b[0m \u001b[0;34m(\u001b[0m\u001b[0;34m-\u001b[0m\u001b[0;36m1\u001b[0m \u001b[0;32mif\u001b[0m \u001b[0minvert_x\u001b[0m \u001b[0;32melse\u001b[0m \u001b[0;36m1\u001b[0m\u001b[0;34m)\u001b[0m\u001b[0;34m,\u001b[0m \u001b[0mdf\u001b[0m\u001b[0;34m[\u001b[0m\u001b[0my\u001b[0m\u001b[0;34m]\u001b[0m \u001b[0;34m*\u001b[0m \u001b[0;34m(\u001b[0m\u001b[0;34m-\u001b[0m\u001b[0;36m1\u001b[0m \u001b[0;32mif\u001b[0m \u001b[0minvert_y\u001b[0m \u001b[0;32melse\u001b[0m \u001b[0;36m1\u001b[0m\u001b[0;34m)\u001b[0m\u001b[0;34m,\u001b[0m \u001b[0ms\u001b[0m\u001b[0;34m=\u001b[0m\u001b[0ms\u001b[0m\u001b[0;34m,\u001b[0m \u001b[0mc\u001b[0m\u001b[0;34m=\u001b[0m\u001b[0mc\u001b[0m\u001b[0;34m,\u001b[0m \u001b[0mcmap\u001b[0m\u001b[0;34m=\u001b[0m\u001b[0mcmap\u001b[0m\u001b[0;34m,\u001b[0m \u001b[0malpha\u001b[0m\u001b[0;34m=\u001b[0m\u001b[0malpha\u001b[0m\u001b[0;34m)\u001b[0m\u001b[0;34m\u001b[0m\u001b[0m\n\u001b[0m\u001b[1;32m     28\u001b[0m         \u001b[0;32mif\u001b[0m \u001b[0mshow_cbar\u001b[0m\u001b[0;34m:\u001b[0m\u001b[0;34m\u001b[0m\u001b[0m\n\u001b[1;32m     29\u001b[0m             \u001b[0mplt\u001b[0m\u001b[0;34m.\u001b[0m\u001b[0mcolorbar\u001b[0m\u001b[0;34m(\u001b[0m\u001b[0mlabel\u001b[0m\u001b[0;34m=\u001b[0m\u001b[0mlabel\u001b[0m\u001b[0;34m)\u001b[0m\u001b[0;34m\u001b[0m\u001b[0m\n",
      "\u001b[0;32m/root/.virtualenvs/spirit/local/lib/python2.7/site-packages/pandas/core/frame.pyc\u001b[0m in \u001b[0;36m__getitem__\u001b[0;34m(self, key)\u001b[0m\n\u001b[1;32m   2057\u001b[0m             \u001b[0;32mreturn\u001b[0m \u001b[0mself\u001b[0m\u001b[0;34m.\u001b[0m\u001b[0m_getitem_multilevel\u001b[0m\u001b[0;34m(\u001b[0m\u001b[0mkey\u001b[0m\u001b[0;34m)\u001b[0m\u001b[0;34m\u001b[0m\u001b[0m\n\u001b[1;32m   2058\u001b[0m         \u001b[0;32melse\u001b[0m\u001b[0;34m:\u001b[0m\u001b[0;34m\u001b[0m\u001b[0m\n\u001b[0;32m-> 2059\u001b[0;31m             \u001b[0;32mreturn\u001b[0m \u001b[0mself\u001b[0m\u001b[0;34m.\u001b[0m\u001b[0m_getitem_column\u001b[0m\u001b[0;34m(\u001b[0m\u001b[0mkey\u001b[0m\u001b[0;34m)\u001b[0m\u001b[0;34m\u001b[0m\u001b[0m\n\u001b[0m\u001b[1;32m   2060\u001b[0m \u001b[0;34m\u001b[0m\u001b[0m\n\u001b[1;32m   2061\u001b[0m     \u001b[0;32mdef\u001b[0m \u001b[0m_getitem_column\u001b[0m\u001b[0;34m(\u001b[0m\u001b[0mself\u001b[0m\u001b[0;34m,\u001b[0m \u001b[0mkey\u001b[0m\u001b[0;34m)\u001b[0m\u001b[0;34m:\u001b[0m\u001b[0;34m\u001b[0m\u001b[0m\n",
      "\u001b[0;32m/root/.virtualenvs/spirit/local/lib/python2.7/site-packages/pandas/core/frame.pyc\u001b[0m in \u001b[0;36m_getitem_column\u001b[0;34m(self, key)\u001b[0m\n\u001b[1;32m   2064\u001b[0m         \u001b[0;31m# get column\u001b[0m\u001b[0;34m\u001b[0m\u001b[0;34m\u001b[0m\u001b[0m\n\u001b[1;32m   2065\u001b[0m         \u001b[0;32mif\u001b[0m \u001b[0mself\u001b[0m\u001b[0;34m.\u001b[0m\u001b[0mcolumns\u001b[0m\u001b[0;34m.\u001b[0m\u001b[0mis_unique\u001b[0m\u001b[0;34m:\u001b[0m\u001b[0;34m\u001b[0m\u001b[0m\n\u001b[0;32m-> 2066\u001b[0;31m             \u001b[0;32mreturn\u001b[0m \u001b[0mself\u001b[0m\u001b[0;34m.\u001b[0m\u001b[0m_get_item_cache\u001b[0m\u001b[0;34m(\u001b[0m\u001b[0mkey\u001b[0m\u001b[0;34m)\u001b[0m\u001b[0;34m\u001b[0m\u001b[0m\n\u001b[0m\u001b[1;32m   2067\u001b[0m \u001b[0;34m\u001b[0m\u001b[0m\n\u001b[1;32m   2068\u001b[0m         \u001b[0;31m# duplicate columns & possible reduce dimensionality\u001b[0m\u001b[0;34m\u001b[0m\u001b[0;34m\u001b[0m\u001b[0m\n",
      "\u001b[0;32m/root/.virtualenvs/spirit/local/lib/python2.7/site-packages/pandas/core/generic.pyc\u001b[0m in \u001b[0;36m_get_item_cache\u001b[0;34m(self, item)\u001b[0m\n\u001b[1;32m   1384\u001b[0m         \u001b[0mres\u001b[0m \u001b[0;34m=\u001b[0m \u001b[0mcache\u001b[0m\u001b[0;34m.\u001b[0m\u001b[0mget\u001b[0m\u001b[0;34m(\u001b[0m\u001b[0mitem\u001b[0m\u001b[0;34m)\u001b[0m\u001b[0;34m\u001b[0m\u001b[0m\n\u001b[1;32m   1385\u001b[0m         \u001b[0;32mif\u001b[0m \u001b[0mres\u001b[0m \u001b[0;32mis\u001b[0m \u001b[0mNone\u001b[0m\u001b[0;34m:\u001b[0m\u001b[0;34m\u001b[0m\u001b[0m\n\u001b[0;32m-> 1386\u001b[0;31m             \u001b[0mvalues\u001b[0m \u001b[0;34m=\u001b[0m \u001b[0mself\u001b[0m\u001b[0;34m.\u001b[0m\u001b[0m_data\u001b[0m\u001b[0;34m.\u001b[0m\u001b[0mget\u001b[0m\u001b[0;34m(\u001b[0m\u001b[0mitem\u001b[0m\u001b[0;34m)\u001b[0m\u001b[0;34m\u001b[0m\u001b[0m\n\u001b[0m\u001b[1;32m   1387\u001b[0m             \u001b[0mres\u001b[0m \u001b[0;34m=\u001b[0m \u001b[0mself\u001b[0m\u001b[0;34m.\u001b[0m\u001b[0m_box_item_values\u001b[0m\u001b[0;34m(\u001b[0m\u001b[0mitem\u001b[0m\u001b[0;34m,\u001b[0m \u001b[0mvalues\u001b[0m\u001b[0;34m)\u001b[0m\u001b[0;34m\u001b[0m\u001b[0m\n\u001b[1;32m   1388\u001b[0m             \u001b[0mcache\u001b[0m\u001b[0;34m[\u001b[0m\u001b[0mitem\u001b[0m\u001b[0;34m]\u001b[0m \u001b[0;34m=\u001b[0m \u001b[0mres\u001b[0m\u001b[0;34m\u001b[0m\u001b[0m\n",
      "\u001b[0;32m/root/.virtualenvs/spirit/local/lib/python2.7/site-packages/pandas/core/internals.pyc\u001b[0m in \u001b[0;36mget\u001b[0;34m(self, item, fastpath)\u001b[0m\n\u001b[1;32m   3541\u001b[0m \u001b[0;34m\u001b[0m\u001b[0m\n\u001b[1;32m   3542\u001b[0m             \u001b[0;32mif\u001b[0m \u001b[0;32mnot\u001b[0m \u001b[0misnull\u001b[0m\u001b[0;34m(\u001b[0m\u001b[0mitem\u001b[0m\u001b[0;34m)\u001b[0m\u001b[0;34m:\u001b[0m\u001b[0;34m\u001b[0m\u001b[0m\n\u001b[0;32m-> 3543\u001b[0;31m                 \u001b[0mloc\u001b[0m \u001b[0;34m=\u001b[0m \u001b[0mself\u001b[0m\u001b[0;34m.\u001b[0m\u001b[0mitems\u001b[0m\u001b[0;34m.\u001b[0m\u001b[0mget_loc\u001b[0m\u001b[0;34m(\u001b[0m\u001b[0mitem\u001b[0m\u001b[0;34m)\u001b[0m\u001b[0;34m\u001b[0m\u001b[0m\n\u001b[0m\u001b[1;32m   3544\u001b[0m             \u001b[0;32melse\u001b[0m\u001b[0;34m:\u001b[0m\u001b[0;34m\u001b[0m\u001b[0m\n\u001b[1;32m   3545\u001b[0m                 \u001b[0mindexer\u001b[0m \u001b[0;34m=\u001b[0m \u001b[0mnp\u001b[0m\u001b[0;34m.\u001b[0m\u001b[0marange\u001b[0m\u001b[0;34m(\u001b[0m\u001b[0mlen\u001b[0m\u001b[0;34m(\u001b[0m\u001b[0mself\u001b[0m\u001b[0;34m.\u001b[0m\u001b[0mitems\u001b[0m\u001b[0;34m)\u001b[0m\u001b[0;34m)\u001b[0m\u001b[0;34m[\u001b[0m\u001b[0misnull\u001b[0m\u001b[0;34m(\u001b[0m\u001b[0mself\u001b[0m\u001b[0;34m.\u001b[0m\u001b[0mitems\u001b[0m\u001b[0;34m)\u001b[0m\u001b[0;34m]\u001b[0m\u001b[0;34m\u001b[0m\u001b[0m\n",
      "\u001b[0;32m/root/.virtualenvs/spirit/local/lib/python2.7/site-packages/pandas/indexes/base.pyc\u001b[0m in \u001b[0;36mget_loc\u001b[0;34m(self, key, method, tolerance)\u001b[0m\n\u001b[1;32m   2134\u001b[0m                 \u001b[0;32mreturn\u001b[0m \u001b[0mself\u001b[0m\u001b[0;34m.\u001b[0m\u001b[0m_engine\u001b[0m\u001b[0;34m.\u001b[0m\u001b[0mget_loc\u001b[0m\u001b[0;34m(\u001b[0m\u001b[0mkey\u001b[0m\u001b[0;34m)\u001b[0m\u001b[0;34m\u001b[0m\u001b[0m\n\u001b[1;32m   2135\u001b[0m             \u001b[0;32mexcept\u001b[0m \u001b[0mKeyError\u001b[0m\u001b[0;34m:\u001b[0m\u001b[0;34m\u001b[0m\u001b[0m\n\u001b[0;32m-> 2136\u001b[0;31m                 \u001b[0;32mreturn\u001b[0m \u001b[0mself\u001b[0m\u001b[0;34m.\u001b[0m\u001b[0m_engine\u001b[0m\u001b[0;34m.\u001b[0m\u001b[0mget_loc\u001b[0m\u001b[0;34m(\u001b[0m\u001b[0mself\u001b[0m\u001b[0;34m.\u001b[0m\u001b[0m_maybe_cast_indexer\u001b[0m\u001b[0;34m(\u001b[0m\u001b[0mkey\u001b[0m\u001b[0;34m)\u001b[0m\u001b[0;34m)\u001b[0m\u001b[0;34m\u001b[0m\u001b[0m\n\u001b[0m\u001b[1;32m   2137\u001b[0m \u001b[0;34m\u001b[0m\u001b[0m\n\u001b[1;32m   2138\u001b[0m         \u001b[0mindexer\u001b[0m \u001b[0;34m=\u001b[0m \u001b[0mself\u001b[0m\u001b[0;34m.\u001b[0m\u001b[0mget_indexer\u001b[0m\u001b[0;34m(\u001b[0m\u001b[0;34m[\u001b[0m\u001b[0mkey\u001b[0m\u001b[0;34m]\u001b[0m\u001b[0;34m,\u001b[0m \u001b[0mmethod\u001b[0m\u001b[0;34m=\u001b[0m\u001b[0mmethod\u001b[0m\u001b[0;34m,\u001b[0m \u001b[0mtolerance\u001b[0m\u001b[0;34m=\u001b[0m\u001b[0mtolerance\u001b[0m\u001b[0;34m)\u001b[0m\u001b[0;34m\u001b[0m\u001b[0m\n",
      "\u001b[0;32mpandas/index.pyx\u001b[0m in \u001b[0;36mpandas.index.IndexEngine.get_loc (pandas/index.c:4433)\u001b[0;34m()\u001b[0m\n",
      "\u001b[0;32mpandas/index.pyx\u001b[0m in \u001b[0;36mpandas.index.IndexEngine.get_loc (pandas/index.c:4279)\u001b[0;34m()\u001b[0m\n",
      "\u001b[0;32mpandas/src/hashtable_class_helper.pxi\u001b[0m in \u001b[0;36mpandas.hashtable.PyObjectHashTable.get_item (pandas/hashtable.c:13742)\u001b[0;34m()\u001b[0m\n",
      "\u001b[0;32mpandas/src/hashtable_class_helper.pxi\u001b[0m in \u001b[0;36mpandas.hashtable.PyObjectHashTable.get_item (pandas/hashtable.c:13696)\u001b[0;34m()\u001b[0m\n",
      "\u001b[0;31mKeyError\u001b[0m: 'x'"
     ]
    }
   ],
   "source": [
    "plot_xy(df)"
   ]
  },
  {
   "cell_type": "code",
   "execution_count": 32,
   "metadata": {
    "collapsed": false
   },
   "outputs": [
    {
     "data": {
      "image/png": "[encoded data removed]",
      "text/plain": [
       "<matplotlib.figure.Figure at 0x7f9be9d36c90>"
      ]
     },
     "metadata": {},
     "output_type": "display_data"
    }
   ],
   "source": [
    "df = load_bag(\"bagfiles/experiment-0_user-05_run-02.bag\", include=TOPICS_SUMMARIZED)\n",
    "rename_columns(df)\n",
    "normalize_columns(df)\n",
    "plot_xy_conditional(df, df.arrived == 1, x=\"xn\", y=\"yn\", s=\"z\")\n",
    "plot_targets(df, x=\"xn\", y=\"yn\", target_coords=[Coords(0, 0), Coords(0, -6)])"
   ]
  },
  {
   "cell_type": "code",
   "execution_count": 26,
   "metadata": {
    "collapsed": false
   },
   "outputs": [
    {
     "data": {
      "image/png": "[encoded data removed]",
      "text/plain": [
       "<matplotlib.figure.Figure at 0x7f559c486c90>"
      ]
     },
     "metadata": {},
     "output_type": "display_data"
    }
   ],
   "source": [
    "plot_xy(df, x=\"yn\", y=\"z\", invert_y=False, c=\"x\")"
   ]
  },
  {
   "cell_type": "code",
   "execution_count": 27,
   "metadata": {
    "collapsed": true
   },
   "outputs": [],
   "source": [
    "df[\"distance\"] = np.sqrt(df.xn**2 + df.yn**2)"
   ]
  },
  {
   "cell_type": "code",
   "execution_count": 28,
   "metadata": {
    "collapsed": false
   },
   "outputs": [
    {
     "data": {
      "text/plain": [
       "[<matplotlib.lines.Line2D at 0x7f559c5136d0>]"
      ]
     },
     "execution_count": 28,
     "metadata": {},
     "output_type": "execute_result"
    },
    {
     "data": {
      "image/png": "[encoded data removed]",
      "text/plain": [
       "<matplotlib.figure.Figure at 0x7f559c486c50>"
      ]
     },
     "metadata": {},
     "output_type": "display_data"
    }
   ],
   "source": [
    "plt.plot(df.distance, df.z)"
   ]
  },
  {
   "cell_type": "code",
   "execution_count": 29,
   "metadata": {
    "collapsed": false
   },
   "outputs": [
    {
     "data": {
      "text/plain": [
       "<matplotlib.legend.Legend at 0x7f559c044550>"
      ]
     },
     "execution_count": 29,
     "metadata": {},
     "output_type": "execute_result"
    },
    {
     "data": {
      "image/png": "[encoded data removed]",
      "text/plain": [
       "<matplotlib.figure.Figure at 0x7f559c6f2990>"
      ]
     },
     "metadata": {},
     "output_type": "display_data"
    }
   ],
   "source": [
    "df.xn.plot(label=\"x\")\n",
    "plt.plot(df.index, -df.yn, label=\"y\")\n",
    "df.z.plot(label=\"z\")\n",
    "plt.legend()"
   ]
  },
  {
   "cell_type": "code",
   "execution_count": null,
   "metadata": {
    "collapsed": true
   },
   "outputs": [],
   "source": []
  },
  {
   "cell_type": "markdown",
   "metadata": {
    "collapsed": true
   },
   "source": [
    "# All"
   ]
  },
  {
   "cell_type": "code",
   "execution_count": 150,
   "metadata": {
    "collapsed": false
   },
   "outputs": [
    {
     "data": {
      "text/plain": [
       "(-1, 8)"
      ]
     },
     "execution_count": 150,
     "metadata": {},
     "output_type": "execute_result"
    },
    {
     "data": {
      "image/png": "[encoded data removed]",
      "text/plain": [
       "<matplotlib.figure.Figure at 0x7fb2af18f250>"
      ]
     },
     "metadata": {},
     "output_type": "display_data"
    }
   ],
   "source": [
    "for filename in glob.glob(\"bagfiles/experiment-0_*.bag\"):\n",
    "    if \"user-00\" not in filename:\n",
    "        df = load_bag(filename, include=TOPICS_SUMMARIZED)\n",
    "        rename_columns(df)\n",
    "        if any(df.arrived):\n",
    "            normalize_columns(df)\n",
    "            plot_xy_conditional(df, df.arrived==1, x=\"xn\", y=\"yn\", alpha_not_condition=0.2, line=True)\n",
    "plot_targets(df, x=\"xn\", y=\"yn\", target_coords=[Coords(0, -6)], show_final=False)\n",
    "plt.xlabel(r\"$x$\")\n",
    "plt.ylabel(r\"$y$\")\n",
    "plt.title(\"Onboard view\")\n",
    "plt.ylim(-1, 8)"
   ]
  },
  {
   "cell_type": "code",
   "execution_count": 151,
   "metadata": {
    "collapsed": false
   },
   "outputs": [
    {
     "data": {
      "text/plain": [
       "(-1, 8)"
      ]
     },
     "execution_count": 151,
     "metadata": {},
     "output_type": "execute_result"
    },
    {
     "data": {
      "image/png": "[encoded data removed]",
      "text/plain": [
       "<matplotlib.figure.Figure at 0x7fb2c2350910>"
      ]
     },
     "metadata": {},
     "output_type": "display_data"
    }
   ],
   "source": [
    "for filename in glob.glob(\"bagfiles/experiment-1_*.bag\"):\n",
    "    if \"user-00\" not in filename:\n",
    "        df = load_bag(filename, include=TOPICS_SUMMARIZED)\n",
    "        rename_columns(df)\n",
    "        if any(df.arrived):\n",
    "            normalize_columns(df)\n",
    "            plot_xy_conditional(df, df.arrived == 1, x=\"xn\", y=\"yn\", alpha_not_condition=0.2, line=True)\n",
    "plot_targets(df, x=\"xn\", y=\"yn\", target_coords=[Coords(0, -6)], show_final=False)\n",
    "plt.xlabel(r\"$x$\")\n",
    "plt.ylabel(r\"$y$\")\n",
    "plt.title(\"SPIRIT view\")\n",
    "plt.ylim(-1, 8)"
   ]
  },
  {
   "cell_type": "code",
   "execution_count": 148,
   "metadata": {
    "collapsed": false
   },
   "outputs": [
    {
     "data": {
      "text/plain": [
       "<matplotlib.text.Text at 0x7fb2aeb30a90>"
      ]
     },
     "execution_count": 148,
     "metadata": {},
     "output_type": "execute_result"
    },
    {
     "data": {
      "image/png": "[encoded data removed]",
      "text/plain": [
       "<matplotlib.figure.Figure at 0x7fb2ae623e90>"
      ]
     },
     "metadata": {},
     "output_type": "display_data"
    }
   ],
   "source": [
    "for filename in glob.glob(\"bagfiles/experiment-0_*.bag\"):\n",
    "    if \"user-00\" not in filename:\n",
    "        df = load_bag(filename, include=TOPICS_SUMMARIZED)\n",
    "        rename_columns(df)\n",
    "        if any(df.arrived):\n",
    "            normalize_columns(df)\n",
    "            plot_xy_conditional(df, df.arrived==1, x=\"xn\", y=\"yn\", c=\"C0\", c_condition=\"C0\",\n",
    "                                alpha_not_condition=0.2, alpha_condition=0.5, line=True)\n",
    "for filename in glob.glob(\"bagfiles/experiment-1_*.bag\"):\n",
    "    if \"user-00\" not in filename:\n",
    "        df = load_bag(filename, include=TOPICS_SUMMARIZED)\n",
    "        rename_columns(df)\n",
    "        if any(df.arrived):\n",
    "            normalize_columns(df)\n",
    "            plot_xy_conditional(df, df.arrived==1, x=\"xn\", y=\"yn\", c=\"C1\", c_condition=\"C1\",\n",
    "                                alpha_not_condition=0.2, alpha_condition=0.5, line=True)\n",
    "plot_targets(df, x=\"xn\", y=\"yn\", target_coords=[Coords(0, -6)], show_final=False)\n",
    "plt.xlabel(r\"$x$\")\n",
    "plt.ylabel(r\"$y$\")"
   ]
  },
  {
   "cell_type": "code",
   "execution_count": null,
   "metadata": {
    "collapsed": true
   },
   "outputs": [],
   "source": []
  },
  {
   "cell_type": "code",
   "execution_count": null,
   "metadata": {
    "collapsed": true
   },
   "outputs": [],
   "source": []
  },
  {
   "cell_type": "markdown",
   "metadata": {
    "collapsed": true
   },
   "source": [
    "# Seaborn"
   ]
  },
  {
   "cell_type": "code",
   "execution_count": 153,
   "metadata": {
    "collapsed": false
   },
   "outputs": [],
   "source": [
    "import seaborn as sns"
   ]
  },
  {
   "cell_type": "code",
   "execution_count": 155,
   "metadata": {
    "collapsed": false
   },
   "outputs": [],
   "source": [
    "df = load_bag(\"bagfiles/experiment-1_user-05_run-02.bag\", include=TOPICS_SUMMARIZED)\n",
    "rename_columns(df)\n",
    "normalize_columns(df)"
   ]
  },
  {
   "cell_type": "code",
   "execution_count": 160,
   "metadata": {
    "collapsed": false
   },
   "outputs": [],
   "source": [
    "experiments = pd.DataFrame(columns=[\"user_id\", \"experiment_type\", \"run\", \"rms_mean\", \"rms_std\",\n",
    "                                    \"rms_x_mean\", \"rms_x_std\", \"rms_z_mean\", \"rms_z_std\"])"
   ]
  },
  {
   "cell_type": "code",
   "execution_count": null,
   "metadata": {
    "collapsed": true
   },
   "outputs": [],
   "source": [
    "experiments = pd.DataFrame"
   ]
  },
  {
   "cell_type": "code",
   "execution_count": null,
   "metadata": {
    "collapsed": true
   },
   "outputs": [],
   "source": [
    "experiments = pd.Dataframe"
   ]
  },
  {
   "cell_type": "code",
   "execution_count": 166,
   "metadata": {
    "collapsed": true
   },
   "outputs": [],
   "source": [
    "df.to_csv(\"csv/experiment-1_user-05_run-02.csv\", index_label=\"time\")"
   ]
  },
  {
   "cell_type": "code",
   "execution_count": 202,
   "metadata": {
    "collapsed": false
   },
   "outputs": [
    {
     "data": {
      "text/html": [
       "<div>\n",
       "<table border=\"1\" class=\"dataframe\">\n",
       "  <thead>\n",
       "    <tr style=\"text-align: right;\">\n",
       "      <th></th>\n",
       "      <th>time</th>\n",
       "      <th>arrived</th>\n",
       "      <th>angle</th>\n",
       "      <th>gx</th>\n",
       "      <th>gy</th>\n",
       "      <th>qa</th>\n",
       "      <th>qb</th>\n",
       "      <th>qc</th>\n",
       "      <th>qd</th>\n",
       "      <th>x</th>\n",
       "      <th>y</th>\n",
       "      <th>z</th>\n",
       "      <th>xn</th>\n",
       "      <th>yn</th>\n",
       "    </tr>\n",
       "  </thead>\n",
       "  <tbody>\n",
       "    <tr>\n",
       "      <th>0</th>\n",
       "      <td>2017-02-03 04:14:32.521745920</td>\n",
       "      <td>0.0</td>\n",
       "      <td>-0.116688</td>\n",
       "      <td>0.016081</td>\n",
       "      <td>2.763059</td>\n",
       "      <td>0.998120</td>\n",
       "      <td>0.018395</td>\n",
       "      <td>0.003106</td>\n",
       "      <td>-0.058377</td>\n",
       "      <td>0.016081</td>\n",
       "      <td>2.763059</td>\n",
       "      <td>0.094384</td>\n",
       "      <td>0.000000</td>\n",
       "      <td>0.000000</td>\n",
       "    </tr>\n",
       "    <tr>\n",
       "      <th>1</th>\n",
       "      <td>2017-02-03 04:14:32.521454592</td>\n",
       "      <td>0.0</td>\n",
       "      <td>-0.116688</td>\n",
       "      <td>0.016081</td>\n",
       "      <td>2.763059</td>\n",
       "      <td>0.998120</td>\n",
       "      <td>0.018395</td>\n",
       "      <td>0.003106</td>\n",
       "      <td>-0.058377</td>\n",
       "      <td>0.016081</td>\n",
       "      <td>2.763059</td>\n",
       "      <td>0.094384</td>\n",
       "      <td>0.000000</td>\n",
       "      <td>0.000000</td>\n",
       "    </tr>\n",
       "    <tr>\n",
       "      <th>2</th>\n",
       "      <td>2017-02-03 04:14:32.530404608</td>\n",
       "      <td>0.0</td>\n",
       "      <td>-0.124856</td>\n",
       "      <td>0.019033</td>\n",
       "      <td>2.765162</td>\n",
       "      <td>0.998120</td>\n",
       "      <td>0.018395</td>\n",
       "      <td>0.003106</td>\n",
       "      <td>-0.058377</td>\n",
       "      <td>0.016081</td>\n",
       "      <td>2.763059</td>\n",
       "      <td>0.094384</td>\n",
       "      <td>0.000000</td>\n",
       "      <td>0.000000</td>\n",
       "    </tr>\n",
       "    <tr>\n",
       "      <th>3</th>\n",
       "      <td>2017-02-03 04:14:32.530204672</td>\n",
       "      <td>0.0</td>\n",
       "      <td>-0.124856</td>\n",
       "      <td>0.019033</td>\n",
       "      <td>2.765162</td>\n",
       "      <td>0.998052</td>\n",
       "      <td>0.000989</td>\n",
       "      <td>-0.000175</td>\n",
       "      <td>-0.062387</td>\n",
       "      <td>0.019033</td>\n",
       "      <td>2.765162</td>\n",
       "      <td>0.091747</td>\n",
       "      <td>0.002952</td>\n",
       "      <td>0.002102</td>\n",
       "    </tr>\n",
       "    <tr>\n",
       "      <th>4</th>\n",
       "      <td>2017-02-03 04:14:32.540002560</td>\n",
       "      <td>0.0</td>\n",
       "      <td>-0.124848</td>\n",
       "      <td>0.019053</td>\n",
       "      <td>2.765172</td>\n",
       "      <td>0.998052</td>\n",
       "      <td>0.000989</td>\n",
       "      <td>-0.000175</td>\n",
       "      <td>-0.062387</td>\n",
       "      <td>0.019033</td>\n",
       "      <td>2.765162</td>\n",
       "      <td>0.091747</td>\n",
       "      <td>0.002952</td>\n",
       "      <td>0.002102</td>\n",
       "    </tr>\n",
       "  </tbody>\n",
       "</table>\n",
       "</div>"
      ],
      "text/plain": [
       "                           time  arrived     angle        gx        gy  \\\n",
       "0 2017-02-03 04:14:32.521745920      0.0 -0.116688  0.016081  2.763059   \n",
       "1 2017-02-03 04:14:32.521454592      0.0 -0.116688  0.016081  2.763059   \n",
       "2 2017-02-03 04:14:32.530404608      0.0 -0.124856  0.019033  2.765162   \n",
       "3 2017-02-03 04:14:32.530204672      0.0 -0.124856  0.019033  2.765162   \n",
       "4 2017-02-03 04:14:32.540002560      0.0 -0.124848  0.019053  2.765172   \n",
       "\n",
       "         qa        qb        qc        qd         x         y         z  \\\n",
       "0  0.998120  0.018395  0.003106 -0.058377  0.016081  2.763059  0.094384   \n",
       "1  0.998120  0.018395  0.003106 -0.058377  0.016081  2.763059  0.094384   \n",
       "2  0.998120  0.018395  0.003106 -0.058377  0.016081  2.763059  0.094384   \n",
       "3  0.998052  0.000989 -0.000175 -0.062387  0.019033  2.765162  0.091747   \n",
       "4  0.998052  0.000989 -0.000175 -0.062387  0.019033  2.765162  0.091747   \n",
       "\n",
       "         xn        yn  \n",
       "0  0.000000  0.000000  \n",
       "1  0.000000  0.000000  \n",
       "2  0.000000  0.000000  \n",
       "3  0.002952  0.002102  \n",
       "4  0.002952  0.002102  "
      ]
     },
     "execution_count": 202,
     "metadata": {},
     "output_type": "execute_result"
    }
   ],
   "source": [
    "df0 = pd.read_csv(\"csv/experiment-1_user-05_run-02.csv\", parse_dates=[\"time\"])\n",
    "df0.head()"
   ]
  },
  {
   "cell_type": "code",
   "execution_count": 203,
   "metadata": {
    "collapsed": false
   },
   "outputs": [
    {
     "data": {
      "image/png": "[encoded data removed]",
      "text/plain": [
       "<matplotlib.figure.Figure at 0x7fb2aedcce50>"
      ]
     },
     "metadata": {},
     "output_type": "display_data"
    }
   ],
   "source": [
    "plot_xy(df0, x=\"xn\", y=\"yn\", c=\"time\")"
   ]
  },
  {
   "cell_type": "code",
   "execution_count": 186,
   "metadata": {
    "collapsed": false
   },
   "outputs": [
    {
     "data": {
      "text/html": [
       "<div>\n",
       "<table border=\"1\" class=\"dataframe\">\n",
       "  <thead>\n",
       "    <tr style=\"text-align: right;\">\n",
       "      <th></th>\n",
       "      <th>arrived</th>\n",
       "      <th>angle</th>\n",
       "      <th>gx</th>\n",
       "      <th>gy</th>\n",
       "      <th>qa</th>\n",
       "      <th>qb</th>\n",
       "      <th>qc</th>\n",
       "      <th>qd</th>\n",
       "      <th>x</th>\n",
       "      <th>y</th>\n",
       "      <th>z</th>\n",
       "      <th>xn</th>\n",
       "      <th>yn</th>\n",
       "    </tr>\n",
       "    <tr>\n",
       "      <th>time</th>\n",
       "      <th></th>\n",
       "      <th></th>\n",
       "      <th></th>\n",
       "      <th></th>\n",
       "      <th></th>\n",
       "      <th></th>\n",
       "      <th></th>\n",
       "      <th></th>\n",
       "      <th></th>\n",
       "      <th></th>\n",
       "      <th></th>\n",
       "      <th></th>\n",
       "      <th></th>\n",
       "    </tr>\n",
       "  </thead>\n",
       "  <tbody>\n",
       "    <tr>\n",
       "      <th>2017-02-03 04:14:32.521745920</th>\n",
       "      <td>0.0</td>\n",
       "      <td>-0.116688</td>\n",
       "      <td>0.016081</td>\n",
       "      <td>2.763059</td>\n",
       "      <td>0.998120</td>\n",
       "      <td>0.018395</td>\n",
       "      <td>0.003106</td>\n",
       "      <td>-0.058377</td>\n",
       "      <td>0.016081</td>\n",
       "      <td>2.763059</td>\n",
       "      <td>0.094384</td>\n",
       "      <td>0.000000e+00</td>\n",
       "      <td>0.000000e+00</td>\n",
       "    </tr>\n",
       "    <tr>\n",
       "      <th>2017-02-03 04:14:32.521454592</th>\n",
       "      <td>0.0</td>\n",
       "      <td>-0.116688</td>\n",
       "      <td>0.016081</td>\n",
       "      <td>2.763059</td>\n",
       "      <td>0.998120</td>\n",
       "      <td>0.018395</td>\n",
       "      <td>0.003106</td>\n",
       "      <td>-0.058377</td>\n",
       "      <td>0.016081</td>\n",
       "      <td>2.763059</td>\n",
       "      <td>0.094384</td>\n",
       "      <td>0.000000e+00</td>\n",
       "      <td>0.000000e+00</td>\n",
       "    </tr>\n",
       "    <tr>\n",
       "      <th>2017-02-03 04:14:32.530404608</th>\n",
       "      <td>0.0</td>\n",
       "      <td>-0.124856</td>\n",
       "      <td>0.019033</td>\n",
       "      <td>2.765162</td>\n",
       "      <td>0.998120</td>\n",
       "      <td>0.018395</td>\n",
       "      <td>0.003106</td>\n",
       "      <td>-0.058377</td>\n",
       "      <td>0.016081</td>\n",
       "      <td>2.763059</td>\n",
       "      <td>0.094384</td>\n",
       "      <td>0.000000e+00</td>\n",
       "      <td>0.000000e+00</td>\n",
       "    </tr>\n",
       "    <tr>\n",
       "      <th>2017-02-03 04:14:32.530204672</th>\n",
       "      <td>0.0</td>\n",
       "      <td>-0.124856</td>\n",
       "      <td>0.019033</td>\n",
       "      <td>2.765162</td>\n",
       "      <td>0.998052</td>\n",
       "      <td>0.000989</td>\n",
       "      <td>-0.000175</td>\n",
       "      <td>-0.062387</td>\n",
       "      <td>0.019033</td>\n",
       "      <td>2.765162</td>\n",
       "      <td>0.091747</td>\n",
       "      <td>2.951860e-03</td>\n",
       "      <td>2.102375e-03</td>\n",
       "    </tr>\n",
       "    <tr>\n",
       "      <th>2017-02-03 04:14:32.540002560</th>\n",
       "      <td>0.0</td>\n",
       "      <td>-0.124848</td>\n",
       "      <td>0.019053</td>\n",
       "      <td>2.765172</td>\n",
       "      <td>0.998052</td>\n",
       "      <td>0.000989</td>\n",
       "      <td>-0.000175</td>\n",
       "      <td>-0.062387</td>\n",
       "      <td>0.019033</td>\n",
       "      <td>2.765162</td>\n",
       "      <td>0.091747</td>\n",
       "      <td>2.951860e-03</td>\n",
       "      <td>2.102375e-03</td>\n",
       "    </tr>\n",
       "    <tr>\n",
       "      <th>2017-02-03 04:14:32.538715392</th>\n",
       "      <td>0.0</td>\n",
       "      <td>-0.124848</td>\n",
       "      <td>0.019053</td>\n",
       "      <td>2.765172</td>\n",
       "      <td>0.998052</td>\n",
       "      <td>0.000931</td>\n",
       "      <td>-0.000099</td>\n",
       "      <td>-0.062383</td>\n",
       "      <td>0.019053</td>\n",
       "      <td>2.765172</td>\n",
       "      <td>0.091737</td>\n",
       "      <td>2.972173e-03</td>\n",
       "      <td>2.113104e-03</td>\n",
       "    </tr>\n",
       "    <tr>\n",
       "      <th>2017-02-03 04:14:32.547051776</th>\n",
       "      <td>0.0</td>\n",
       "      <td>-0.116641</td>\n",
       "      <td>0.016068</td>\n",
       "      <td>2.763060</td>\n",
       "      <td>0.998052</td>\n",
       "      <td>0.000931</td>\n",
       "      <td>-0.000099</td>\n",
       "      <td>-0.062383</td>\n",
       "      <td>0.019053</td>\n",
       "      <td>2.765172</td>\n",
       "      <td>0.091737</td>\n",
       "      <td>2.972173e-03</td>\n",
       "      <td>2.113104e-03</td>\n",
       "    </tr>\n",
       "    <tr>\n",
       "      <th>2017-02-03 04:14:32.546820096</th>\n",
       "      <td>0.0</td>\n",
       "      <td>-0.116641</td>\n",
       "      <td>0.016068</td>\n",
       "      <td>2.763060</td>\n",
       "      <td>0.998112</td>\n",
       "      <td>0.018910</td>\n",
       "      <td>0.003132</td>\n",
       "      <td>-0.058356</td>\n",
       "      <td>0.016068</td>\n",
       "      <td>2.763060</td>\n",
       "      <td>0.094459</td>\n",
       "      <td>-1.302920e-05</td>\n",
       "      <td>7.152557e-07</td>\n",
       "    </tr>\n",
       "    <tr>\n",
       "      <th>2017-02-03 04:14:32.555563264</th>\n",
       "      <td>0.0</td>\n",
       "      <td>-0.116752</td>\n",
       "      <td>0.016077</td>\n",
       "      <td>2.763077</td>\n",
       "      <td>0.998112</td>\n",
       "      <td>0.018910</td>\n",
       "      <td>0.003132</td>\n",
       "      <td>-0.058356</td>\n",
       "      <td>0.016068</td>\n",
       "      <td>2.763060</td>\n",
       "      <td>0.094459</td>\n",
       "      <td>-1.302920e-05</td>\n",
       "      <td>7.152557e-07</td>\n",
       "    </tr>\n",
       "    <tr>\n",
       "      <th>2017-02-03 04:14:32.555339008</th>\n",
       "      <td>0.0</td>\n",
       "      <td>-0.116752</td>\n",
       "      <td>0.016077</td>\n",
       "      <td>2.763077</td>\n",
       "      <td>0.998129</td>\n",
       "      <td>0.017827</td>\n",
       "      <td>0.003065</td>\n",
       "      <td>-0.058405</td>\n",
       "      <td>0.016077</td>\n",
       "      <td>2.763077</td>\n",
       "      <td>0.094293</td>\n",
       "      <td>-4.233792e-06</td>\n",
       "      <td>1.835823e-05</td>\n",
       "    </tr>\n",
       "    <tr>\n",
       "      <th>2017-02-03 04:14:32.559015424</th>\n",
       "      <td>0.0</td>\n",
       "      <td>-0.116752</td>\n",
       "      <td>0.016077</td>\n",
       "      <td>2.763077</td>\n",
       "      <td>0.998129</td>\n",
       "      <td>0.017827</td>\n",
       "      <td>0.003065</td>\n",
       "      <td>-0.058405</td>\n",
       "      <td>0.016077</td>\n",
       "      <td>2.763077</td>\n",
       "      <td>0.094293</td>\n",
       "      <td>-4.233792e-06</td>\n",
       "      <td>1.835823e-05</td>\n",
       "    </tr>\n",
       "    <tr>\n",
       "      <th>2017-02-03 04:14:32.563581440</th>\n",
       "      <td>0.0</td>\n",
       "      <td>-0.116636</td>\n",
       "      <td>0.016066</td>\n",
       "      <td>2.763054</td>\n",
       "      <td>0.998129</td>\n",
       "      <td>0.017827</td>\n",
       "      <td>0.003065</td>\n",
       "      <td>-0.058405</td>\n",
       "      <td>0.016077</td>\n",
       "      <td>2.763077</td>\n",
       "      <td>0.094293</td>\n",
       "      <td>-4.233792e-06</td>\n",
       "      <td>1.835823e-05</td>\n",
       "    </tr>\n",
       "    <tr>\n",
       "      <th>2017-02-03 04:14:32.563402240</th>\n",
       "      <td>0.0</td>\n",
       "      <td>-0.116636</td>\n",
       "      <td>0.016066</td>\n",
       "      <td>2.763054</td>\n",
       "      <td>0.998112</td>\n",
       "      <td>0.018897</td>\n",
       "      <td>0.003109</td>\n",
       "      <td>-0.058353</td>\n",
       "      <td>0.016066</td>\n",
       "      <td>2.763054</td>\n",
       "      <td>0.094474</td>\n",
       "      <td>-1.438707e-05</td>\n",
       "      <td>-5.245209e-06</td>\n",
       "    </tr>\n",
       "    <tr>\n",
       "      <th>2017-02-03 04:14:32.571800064</th>\n",
       "      <td>0.0</td>\n",
       "      <td>-0.116636</td>\n",
       "      <td>0.016066</td>\n",
       "      <td>2.763054</td>\n",
       "      <td>0.998130</td>\n",
       "      <td>0.018002</td>\n",
       "      <td>0.003092</td>\n",
       "      <td>-0.058335</td>\n",
       "      <td>0.016068</td>\n",
       "      <td>2.763030</td>\n",
       "      <td>0.094322</td>\n",
       "      <td>-1.266971e-05</td>\n",
       "      <td>-2.884865e-05</td>\n",
       "    </tr>\n",
       "    <tr>\n",
       "      <th>2017-02-03 04:14:32.571985408</th>\n",
       "      <td>0.0</td>\n",
       "      <td>-0.116609</td>\n",
       "      <td>0.016068</td>\n",
       "      <td>2.763030</td>\n",
       "      <td>0.998130</td>\n",
       "      <td>0.018002</td>\n",
       "      <td>0.003092</td>\n",
       "      <td>-0.058335</td>\n",
       "      <td>0.016068</td>\n",
       "      <td>2.763030</td>\n",
       "      <td>0.094322</td>\n",
       "      <td>-1.266971e-05</td>\n",
       "      <td>-2.884865e-05</td>\n",
       "    </tr>\n",
       "    <tr>\n",
       "      <th>2017-02-03 04:14:32.580603648</th>\n",
       "      <td>0.0</td>\n",
       "      <td>-0.124824</td>\n",
       "      <td>0.019063</td>\n",
       "      <td>2.765142</td>\n",
       "      <td>0.998130</td>\n",
       "      <td>0.018002</td>\n",
       "      <td>0.003092</td>\n",
       "      <td>-0.058335</td>\n",
       "      <td>0.016068</td>\n",
       "      <td>2.763030</td>\n",
       "      <td>0.094322</td>\n",
       "      <td>-1.266971e-05</td>\n",
       "      <td>-2.884865e-05</td>\n",
       "    </tr>\n",
       "    <tr>\n",
       "      <th>2017-02-03 04:14:32.580195584</th>\n",
       "      <td>0.0</td>\n",
       "      <td>-0.124824</td>\n",
       "      <td>0.019063</td>\n",
       "      <td>2.765142</td>\n",
       "      <td>0.998053</td>\n",
       "      <td>0.000932</td>\n",
       "      <td>-0.000082</td>\n",
       "      <td>-0.062371</td>\n",
       "      <td>0.019063</td>\n",
       "      <td>2.765142</td>\n",
       "      <td>0.091757</td>\n",
       "      <td>2.981722e-03</td>\n",
       "      <td>2.083063e-03</td>\n",
       "    </tr>\n",
       "    <tr>\n",
       "      <th>2017-02-03 04:14:32.588866304</th>\n",
       "      <td>0.0</td>\n",
       "      <td>-0.127028</td>\n",
       "      <td>0.017315</td>\n",
       "      <td>2.765138</td>\n",
       "      <td>0.998053</td>\n",
       "      <td>0.000932</td>\n",
       "      <td>-0.000082</td>\n",
       "      <td>-0.062371</td>\n",
       "      <td>0.019063</td>\n",
       "      <td>2.765142</td>\n",
       "      <td>0.091757</td>\n",
       "      <td>2.981722e-03</td>\n",
       "      <td>2.083063e-03</td>\n",
       "    </tr>\n",
       "    <tr>\n",
       "      <th>2017-02-03 04:14:32.588530688</th>\n",
       "      <td>0.0</td>\n",
       "      <td>-0.127028</td>\n",
       "      <td>0.017315</td>\n",
       "      <td>2.765138</td>\n",
       "      <td>0.997975</td>\n",
       "      <td>-0.000830</td>\n",
       "      <td>0.004088</td>\n",
       "      <td>-0.063467</td>\n",
       "      <td>0.017315</td>\n",
       "      <td>2.765138</td>\n",
       "      <td>0.091676</td>\n",
       "      <td>1.233963e-03</td>\n",
       "      <td>2.079010e-03</td>\n",
       "    </tr>\n",
       "    <tr>\n",
       "      <th>2017-02-03 04:14:32.597455360</th>\n",
       "      <td>0.0</td>\n",
       "      <td>-0.117550</td>\n",
       "      <td>0.016642</td>\n",
       "      <td>2.764844</td>\n",
       "      <td>0.997975</td>\n",
       "      <td>-0.000830</td>\n",
       "      <td>0.004088</td>\n",
       "      <td>-0.063467</td>\n",
       "      <td>0.017315</td>\n",
       "      <td>2.765138</td>\n",
       "      <td>0.091676</td>\n",
       "      <td>1.233963e-03</td>\n",
       "      <td>2.079010e-03</td>\n",
       "    </tr>\n",
       "    <tr>\n",
       "      <th>2017-02-03 04:14:32.596598016</th>\n",
       "      <td>0.0</td>\n",
       "      <td>-0.117550</td>\n",
       "      <td>0.016642</td>\n",
       "      <td>2.764844</td>\n",
       "      <td>0.998145</td>\n",
       "      <td>-0.015956</td>\n",
       "      <td>0.001658</td>\n",
       "      <td>-0.058722</td>\n",
       "      <td>0.016642</td>\n",
       "      <td>2.764844</td>\n",
       "      <td>0.088065</td>\n",
       "      <td>5.610213e-04</td>\n",
       "      <td>1.784801e-03</td>\n",
       "    </tr>\n",
       "    <tr>\n",
       "      <th>2017-02-03 04:14:32.605524480</th>\n",
       "      <td>0.0</td>\n",
       "      <td>-0.119265</td>\n",
       "      <td>0.017765</td>\n",
       "      <td>2.763804</td>\n",
       "      <td>0.998145</td>\n",
       "      <td>-0.015956</td>\n",
       "      <td>0.001658</td>\n",
       "      <td>-0.058722</td>\n",
       "      <td>0.016642</td>\n",
       "      <td>2.764844</td>\n",
       "      <td>0.088065</td>\n",
       "      <td>5.610213e-04</td>\n",
       "      <td>1.784801e-03</td>\n",
       "    </tr>\n",
       "    <tr>\n",
       "      <th>2017-02-03 04:14:32.605336832</th>\n",
       "      <td>0.0</td>\n",
       "      <td>-0.119265</td>\n",
       "      <td>0.017765</td>\n",
       "      <td>2.763804</td>\n",
       "      <td>0.998208</td>\n",
       "      <td>-0.005393</td>\n",
       "      <td>0.000303</td>\n",
       "      <td>-0.059596</td>\n",
       "      <td>0.017765</td>\n",
       "      <td>2.763804</td>\n",
       "      <td>0.090932</td>\n",
       "      <td>1.684269e-03</td>\n",
       "      <td>7.445812e-04</td>\n",
       "    </tr>\n",
       "    <tr>\n",
       "      <th>2017-02-03 04:14:32.613323264</th>\n",
       "      <td>0.0</td>\n",
       "      <td>-0.119265</td>\n",
       "      <td>0.017765</td>\n",
       "      <td>2.763804</td>\n",
       "      <td>0.998052</td>\n",
       "      <td>0.001044</td>\n",
       "      <td>-0.000175</td>\n",
       "      <td>-0.062372</td>\n",
       "      <td>0.019026</td>\n",
       "      <td>2.765168</td>\n",
       "      <td>0.091718</td>\n",
       "      <td>2.945522e-03</td>\n",
       "      <td>2.109289e-03</td>\n",
       "    </tr>\n",
       "    <tr>\n",
       "      <th>2017-02-03 04:14:32.615931648</th>\n",
       "      <td>0.0</td>\n",
       "      <td>-0.124825</td>\n",
       "      <td>0.019026</td>\n",
       "      <td>2.765168</td>\n",
       "      <td>0.998052</td>\n",
       "      <td>0.001044</td>\n",
       "      <td>-0.000175</td>\n",
       "      <td>-0.062372</td>\n",
       "      <td>0.019026</td>\n",
       "      <td>2.765168</td>\n",
       "      <td>0.091718</td>\n",
       "      <td>2.945522e-03</td>\n",
       "      <td>2.109289e-03</td>\n",
       "    </tr>\n",
       "    <tr>\n",
       "      <th>2017-02-03 04:14:32.622270976</th>\n",
       "      <td>0.0</td>\n",
       "      <td>-0.125916</td>\n",
       "      <td>0.018747</td>\n",
       "      <td>2.765547</td>\n",
       "      <td>0.998052</td>\n",
       "      <td>0.001044</td>\n",
       "      <td>-0.000175</td>\n",
       "      <td>-0.062372</td>\n",
       "      <td>0.019026</td>\n",
       "      <td>2.765168</td>\n",
       "      <td>0.091718</td>\n",
       "      <td>2.945522e-03</td>\n",
       "      <td>2.109289e-03</td>\n",
       "    </tr>\n",
       "    <tr>\n",
       "      <th>2017-02-03 04:14:32.622091008</th>\n",
       "      <td>0.0</td>\n",
       "      <td>-0.125916</td>\n",
       "      <td>0.018747</td>\n",
       "      <td>2.765547</td>\n",
       "      <td>0.998018</td>\n",
       "      <td>0.000831</td>\n",
       "      <td>-0.000062</td>\n",
       "      <td>-0.062917</td>\n",
       "      <td>0.018747</td>\n",
       "      <td>2.765547</td>\n",
       "      <td>0.091786</td>\n",
       "      <td>2.665859e-03</td>\n",
       "      <td>2.487898e-03</td>\n",
       "    </tr>\n",
       "    <tr>\n",
       "      <th>2017-02-03 04:14:32.630283520</th>\n",
       "      <td>0.0</td>\n",
       "      <td>-0.116585</td>\n",
       "      <td>0.016081</td>\n",
       "      <td>2.763009</td>\n",
       "      <td>0.998018</td>\n",
       "      <td>0.000831</td>\n",
       "      <td>-0.000062</td>\n",
       "      <td>-0.062917</td>\n",
       "      <td>0.018747</td>\n",
       "      <td>2.765547</td>\n",
       "      <td>0.091786</td>\n",
       "      <td>2.665859e-03</td>\n",
       "      <td>2.487898e-03</td>\n",
       "    </tr>\n",
       "    <tr>\n",
       "      <th>2017-02-03 04:14:32.629823232</th>\n",
       "      <td>0.0</td>\n",
       "      <td>-0.116585</td>\n",
       "      <td>0.016081</td>\n",
       "      <td>2.763009</td>\n",
       "      <td>0.998113</td>\n",
       "      <td>0.018943</td>\n",
       "      <td>0.003107</td>\n",
       "      <td>-0.058328</td>\n",
       "      <td>0.016081</td>\n",
       "      <td>2.763009</td>\n",
       "      <td>0.094501</td>\n",
       "      <td>-2.402812e-07</td>\n",
       "      <td>-5.054474e-05</td>\n",
       "    </tr>\n",
       "    <tr>\n",
       "      <th>2017-02-03 04:14:32.638664192</th>\n",
       "      <td>0.0</td>\n",
       "      <td>-0.116614</td>\n",
       "      <td>0.016076</td>\n",
       "      <td>2.763043</td>\n",
       "      <td>0.998113</td>\n",
       "      <td>0.018943</td>\n",
       "      <td>0.003107</td>\n",
       "      <td>-0.058328</td>\n",
       "      <td>0.016081</td>\n",
       "      <td>2.763009</td>\n",
       "      <td>0.094501</td>\n",
       "      <td>-2.402812e-07</td>\n",
       "      <td>-5.054474e-05</td>\n",
       "    </tr>\n",
       "    <tr>\n",
       "      <th>...</th>\n",
       "      <td>...</td>\n",
       "      <td>...</td>\n",
       "      <td>...</td>\n",
       "      <td>...</td>\n",
       "      <td>...</td>\n",
       "      <td>...</td>\n",
       "      <td>...</td>\n",
       "      <td>...</td>\n",
       "      <td>...</td>\n",
       "      <td>...</td>\n",
       "      <td>...</td>\n",
       "      <td>...</td>\n",
       "      <td>...</td>\n",
       "    </tr>\n",
       "    <tr>\n",
       "      <th>2017-02-03 04:15:29.158889728</th>\n",
       "      <td>0.0</td>\n",
       "      <td>-0.294408</td>\n",
       "      <td>-0.232530</td>\n",
       "      <td>0.299058</td>\n",
       "      <td>0.989089</td>\n",
       "      <td>0.013676</td>\n",
       "      <td>-0.003831</td>\n",
       "      <td>-0.146633</td>\n",
       "      <td>-0.232530</td>\n",
       "      <td>0.299058</td>\n",
       "      <td>0.098499</td>\n",
       "      <td>-2.486104e-01</td>\n",
       "      <td>-2.464002e+00</td>\n",
       "    </tr>\n",
       "    <tr>\n",
       "      <th>2017-02-03 04:15:29.163870976</th>\n",
       "      <td>0.0</td>\n",
       "      <td>-0.294568</td>\n",
       "      <td>-0.232190</td>\n",
       "      <td>0.299265</td>\n",
       "      <td>0.989089</td>\n",
       "      <td>0.013676</td>\n",
       "      <td>-0.003831</td>\n",
       "      <td>-0.146633</td>\n",
       "      <td>-0.232530</td>\n",
       "      <td>0.299058</td>\n",
       "      <td>0.098499</td>\n",
       "      <td>-2.486104e-01</td>\n",
       "      <td>-2.464002e+00</td>\n",
       "    </tr>\n",
       "    <tr>\n",
       "      <th>2017-02-03 04:15:29.163726080</th>\n",
       "      <td>0.0</td>\n",
       "      <td>-0.294568</td>\n",
       "      <td>-0.232190</td>\n",
       "      <td>0.299265</td>\n",
       "      <td>0.989079</td>\n",
       "      <td>0.013641</td>\n",
       "      <td>-0.001578</td>\n",
       "      <td>-0.146744</td>\n",
       "      <td>-0.232190</td>\n",
       "      <td>0.299265</td>\n",
       "      <td>0.098554</td>\n",
       "      <td>-2.482707e-01</td>\n",
       "      <td>-2.463794e+00</td>\n",
       "    </tr>\n",
       "    <tr>\n",
       "      <th>2017-02-03 04:15:29.172667392</th>\n",
       "      <td>0.0</td>\n",
       "      <td>-0.296847</td>\n",
       "      <td>-0.232233</td>\n",
       "      <td>0.299174</td>\n",
       "      <td>0.989079</td>\n",
       "      <td>0.013641</td>\n",
       "      <td>-0.001578</td>\n",
       "      <td>-0.146744</td>\n",
       "      <td>-0.232190</td>\n",
       "      <td>0.299265</td>\n",
       "      <td>0.098554</td>\n",
       "      <td>-2.482707e-01</td>\n",
       "      <td>-2.463794e+00</td>\n",
       "    </tr>\n",
       "    <tr>\n",
       "      <th>2017-02-03 04:15:29.172514560</th>\n",
       "      <td>0.0</td>\n",
       "      <td>-0.296847</td>\n",
       "      <td>-0.232233</td>\n",
       "      <td>0.299174</td>\n",
       "      <td>0.988912</td>\n",
       "      <td>0.013498</td>\n",
       "      <td>-0.000580</td>\n",
       "      <td>-0.147885</td>\n",
       "      <td>-0.232233</td>\n",
       "      <td>0.299174</td>\n",
       "      <td>0.098523</td>\n",
       "      <td>-2.483143e-01</td>\n",
       "      <td>-2.463885e+00</td>\n",
       "    </tr>\n",
       "    <tr>\n",
       "      <th>2017-02-03 04:15:29.180604672</th>\n",
       "      <td>0.0</td>\n",
       "      <td>-0.295310</td>\n",
       "      <td>-0.232344</td>\n",
       "      <td>0.299178</td>\n",
       "      <td>0.988912</td>\n",
       "      <td>0.013498</td>\n",
       "      <td>-0.000580</td>\n",
       "      <td>-0.147885</td>\n",
       "      <td>-0.232233</td>\n",
       "      <td>0.299174</td>\n",
       "      <td>0.098523</td>\n",
       "      <td>-2.483143e-01</td>\n",
       "      <td>-2.463885e+00</td>\n",
       "    </tr>\n",
       "    <tr>\n",
       "      <th>2017-02-03 04:15:29.180461312</th>\n",
       "      <td>0.0</td>\n",
       "      <td>-0.295310</td>\n",
       "      <td>-0.232344</td>\n",
       "      <td>0.299178</td>\n",
       "      <td>0.989024</td>\n",
       "      <td>0.013668</td>\n",
       "      <td>-0.001071</td>\n",
       "      <td>-0.147118</td>\n",
       "      <td>-0.232344</td>\n",
       "      <td>0.299178</td>\n",
       "      <td>0.098515</td>\n",
       "      <td>-2.484250e-01</td>\n",
       "      <td>-2.463881e+00</td>\n",
       "    </tr>\n",
       "    <tr>\n",
       "      <th>2017-02-03 04:15:29.189368576</th>\n",
       "      <td>0.0</td>\n",
       "      <td>-0.299048</td>\n",
       "      <td>-0.233421</td>\n",
       "      <td>0.298621</td>\n",
       "      <td>0.989024</td>\n",
       "      <td>0.013668</td>\n",
       "      <td>-0.001071</td>\n",
       "      <td>-0.147118</td>\n",
       "      <td>-0.232344</td>\n",
       "      <td>0.299178</td>\n",
       "      <td>0.098515</td>\n",
       "      <td>-2.484250e-01</td>\n",
       "      <td>-2.463881e+00</td>\n",
       "    </tr>\n",
       "    <tr>\n",
       "      <th>2017-02-03 04:15:29.189155328</th>\n",
       "      <td>0.0</td>\n",
       "      <td>-0.299048</td>\n",
       "      <td>-0.233421</td>\n",
       "      <td>0.298621</td>\n",
       "      <td>0.988802</td>\n",
       "      <td>0.008563</td>\n",
       "      <td>0.001340</td>\n",
       "      <td>-0.148983</td>\n",
       "      <td>-0.233421</td>\n",
       "      <td>0.298621</td>\n",
       "      <td>0.093858</td>\n",
       "      <td>-2.495020e-01</td>\n",
       "      <td>-2.464438e+00</td>\n",
       "    </tr>\n",
       "    <tr>\n",
       "      <th>2017-02-03 04:15:29.197256704</th>\n",
       "      <td>0.0</td>\n",
       "      <td>-0.296355</td>\n",
       "      <td>-0.232043</td>\n",
       "      <td>0.298915</td>\n",
       "      <td>0.988802</td>\n",
       "      <td>0.008563</td>\n",
       "      <td>0.001340</td>\n",
       "      <td>-0.148983</td>\n",
       "      <td>-0.233421</td>\n",
       "      <td>0.298621</td>\n",
       "      <td>0.093858</td>\n",
       "      <td>-2.495020e-01</td>\n",
       "      <td>-2.464438e+00</td>\n",
       "    </tr>\n",
       "    <tr>\n",
       "      <th>2017-02-03 04:15:29.197114368</th>\n",
       "      <td>0.0</td>\n",
       "      <td>-0.296355</td>\n",
       "      <td>-0.232043</td>\n",
       "      <td>0.298915</td>\n",
       "      <td>0.988952</td>\n",
       "      <td>0.013279</td>\n",
       "      <td>-0.000554</td>\n",
       "      <td>-0.147641</td>\n",
       "      <td>-0.232043</td>\n",
       "      <td>0.298915</td>\n",
       "      <td>0.098393</td>\n",
       "      <td>-2.481242e-01</td>\n",
       "      <td>-2.464145e+00</td>\n",
       "    </tr>\n",
       "    <tr>\n",
       "      <th>2017-02-03 04:15:29.205567744</th>\n",
       "      <td>0.0</td>\n",
       "      <td>-0.295771</td>\n",
       "      <td>-0.232646</td>\n",
       "      <td>0.299107</td>\n",
       "      <td>0.988952</td>\n",
       "      <td>0.013279</td>\n",
       "      <td>-0.000554</td>\n",
       "      <td>-0.147641</td>\n",
       "      <td>-0.232043</td>\n",
       "      <td>0.298915</td>\n",
       "      <td>0.098393</td>\n",
       "      <td>-2.481242e-01</td>\n",
       "      <td>-2.464145e+00</td>\n",
       "    </tr>\n",
       "    <tr>\n",
       "      <th>2017-02-03 04:15:29.205464576</th>\n",
       "      <td>0.0</td>\n",
       "      <td>-0.295771</td>\n",
       "      <td>-0.232646</td>\n",
       "      <td>0.299107</td>\n",
       "      <td>0.988989</td>\n",
       "      <td>0.013697</td>\n",
       "      <td>-0.000456</td>\n",
       "      <td>-0.147355</td>\n",
       "      <td>-0.232646</td>\n",
       "      <td>0.299107</td>\n",
       "      <td>0.098468</td>\n",
       "      <td>-2.487273e-01</td>\n",
       "      <td>-2.463952e+00</td>\n",
       "    </tr>\n",
       "    <tr>\n",
       "      <th>2017-02-03 04:15:29.214032640</th>\n",
       "      <td>0.0</td>\n",
       "      <td>-0.295290</td>\n",
       "      <td>-0.232563</td>\n",
       "      <td>0.299202</td>\n",
       "      <td>0.988989</td>\n",
       "      <td>0.013697</td>\n",
       "      <td>-0.000456</td>\n",
       "      <td>-0.147355</td>\n",
       "      <td>-0.232646</td>\n",
       "      <td>0.299107</td>\n",
       "      <td>0.098468</td>\n",
       "      <td>-2.487273e-01</td>\n",
       "      <td>-2.463952e+00</td>\n",
       "    </tr>\n",
       "    <tr>\n",
       "      <th>2017-02-03 04:15:29.213870592</th>\n",
       "      <td>0.0</td>\n",
       "      <td>-0.295290</td>\n",
       "      <td>-0.232563</td>\n",
       "      <td>0.299202</td>\n",
       "      <td>0.989027</td>\n",
       "      <td>0.013544</td>\n",
       "      <td>-0.000602</td>\n",
       "      <td>-0.147114</td>\n",
       "      <td>-0.232563</td>\n",
       "      <td>0.299202</td>\n",
       "      <td>0.098423</td>\n",
       "      <td>-2.486435e-01</td>\n",
       "      <td>-2.463857e+00</td>\n",
       "    </tr>\n",
       "    <tr>\n",
       "      <th>2017-02-03 04:15:29.222401792</th>\n",
       "      <td>0.0</td>\n",
       "      <td>-0.297883</td>\n",
       "      <td>-0.231816</td>\n",
       "      <td>0.299187</td>\n",
       "      <td>0.989027</td>\n",
       "      <td>0.013544</td>\n",
       "      <td>-0.000602</td>\n",
       "      <td>-0.147114</td>\n",
       "      <td>-0.232563</td>\n",
       "      <td>0.299202</td>\n",
       "      <td>0.098423</td>\n",
       "      <td>-2.486435e-01</td>\n",
       "      <td>-2.463857e+00</td>\n",
       "    </tr>\n",
       "    <tr>\n",
       "      <th>2017-02-03 04:15:29.222249472</th>\n",
       "      <td>0.0</td>\n",
       "      <td>-0.297883</td>\n",
       "      <td>-0.231816</td>\n",
       "      <td>0.299187</td>\n",
       "      <td>0.988840</td>\n",
       "      <td>0.013197</td>\n",
       "      <td>-0.001159</td>\n",
       "      <td>-0.148389</td>\n",
       "      <td>-0.231816</td>\n",
       "      <td>0.299187</td>\n",
       "      <td>0.098340</td>\n",
       "      <td>-2.478965e-01</td>\n",
       "      <td>-2.463872e+00</td>\n",
       "    </tr>\n",
       "    <tr>\n",
       "      <th>2017-02-03 04:15:29.231089152</th>\n",
       "      <td>0.0</td>\n",
       "      <td>-0.297883</td>\n",
       "      <td>-0.231816</td>\n",
       "      <td>0.299187</td>\n",
       "      <td>0.988873</td>\n",
       "      <td>0.010975</td>\n",
       "      <td>0.004208</td>\n",
       "      <td>-0.148295</td>\n",
       "      <td>-0.232258</td>\n",
       "      <td>0.298077</td>\n",
       "      <td>0.093454</td>\n",
       "      <td>-2.483384e-01</td>\n",
       "      <td>-2.464982e+00</td>\n",
       "    </tr>\n",
       "    <tr>\n",
       "      <th>2017-02-03 04:15:29.231230464</th>\n",
       "      <td>0.0</td>\n",
       "      <td>-0.297590</td>\n",
       "      <td>-0.232258</td>\n",
       "      <td>0.298077</td>\n",
       "      <td>0.988873</td>\n",
       "      <td>0.010975</td>\n",
       "      <td>0.004208</td>\n",
       "      <td>-0.148295</td>\n",
       "      <td>-0.232258</td>\n",
       "      <td>0.298077</td>\n",
       "      <td>0.093454</td>\n",
       "      <td>-2.483384e-01</td>\n",
       "      <td>-2.464982e+00</td>\n",
       "    </tr>\n",
       "    <tr>\n",
       "      <th>2017-02-03 04:15:29.239558912</th>\n",
       "      <td>0.0</td>\n",
       "      <td>-0.296224</td>\n",
       "      <td>-0.232219</td>\n",
       "      <td>0.299027</td>\n",
       "      <td>0.988873</td>\n",
       "      <td>0.010975</td>\n",
       "      <td>0.004208</td>\n",
       "      <td>-0.148295</td>\n",
       "      <td>-0.232258</td>\n",
       "      <td>0.298077</td>\n",
       "      <td>0.093454</td>\n",
       "      <td>-2.483384e-01</td>\n",
       "      <td>-2.464982e+00</td>\n",
       "    </tr>\n",
       "    <tr>\n",
       "      <th>2017-02-03 04:15:29.239399424</th>\n",
       "      <td>0.0</td>\n",
       "      <td>-0.296224</td>\n",
       "      <td>-0.232219</td>\n",
       "      <td>0.299027</td>\n",
       "      <td>0.988960</td>\n",
       "      <td>0.013369</td>\n",
       "      <td>-0.000551</td>\n",
       "      <td>-0.147577</td>\n",
       "      <td>-0.232219</td>\n",
       "      <td>0.299027</td>\n",
       "      <td>0.098439</td>\n",
       "      <td>-2.483003e-01</td>\n",
       "      <td>-2.464033e+00</td>\n",
       "    </tr>\n",
       "    <tr>\n",
       "      <th>2017-02-03 04:15:29.247527168</th>\n",
       "      <td>0.0</td>\n",
       "      <td>-0.294639</td>\n",
       "      <td>-0.232401</td>\n",
       "      <td>0.299158</td>\n",
       "      <td>0.988960</td>\n",
       "      <td>0.013369</td>\n",
       "      <td>-0.000551</td>\n",
       "      <td>-0.147577</td>\n",
       "      <td>-0.232219</td>\n",
       "      <td>0.299027</td>\n",
       "      <td>0.098439</td>\n",
       "      <td>-2.483003e-01</td>\n",
       "      <td>-2.464033e+00</td>\n",
       "    </tr>\n",
       "    <tr>\n",
       "      <th>2017-02-03 04:15:29.247368704</th>\n",
       "      <td>0.0</td>\n",
       "      <td>-0.294639</td>\n",
       "      <td>-0.232401</td>\n",
       "      <td>0.299158</td>\n",
       "      <td>0.989076</td>\n",
       "      <td>0.013465</td>\n",
       "      <td>-0.001424</td>\n",
       "      <td>-0.146781</td>\n",
       "      <td>-0.232401</td>\n",
       "      <td>0.299158</td>\n",
       "      <td>0.098439</td>\n",
       "      <td>-2.484816e-01</td>\n",
       "      <td>-2.463901e+00</td>\n",
       "    </tr>\n",
       "    <tr>\n",
       "      <th>2017-02-03 04:15:29.255264000</th>\n",
       "      <td>0.0</td>\n",
       "      <td>-0.291031</td>\n",
       "      <td>-0.228646</td>\n",
       "      <td>0.297553</td>\n",
       "      <td>0.989076</td>\n",
       "      <td>0.013465</td>\n",
       "      <td>-0.001424</td>\n",
       "      <td>-0.146781</td>\n",
       "      <td>-0.232401</td>\n",
       "      <td>0.299158</td>\n",
       "      <td>0.098439</td>\n",
       "      <td>-2.484816e-01</td>\n",
       "      <td>-2.463901e+00</td>\n",
       "    </tr>\n",
       "    <tr>\n",
       "      <th>2017-02-03 04:15:29.255138816</th>\n",
       "      <td>0.0</td>\n",
       "      <td>-0.291031</td>\n",
       "      <td>-0.228646</td>\n",
       "      <td>0.297553</td>\n",
       "      <td>0.989379</td>\n",
       "      <td>0.010075</td>\n",
       "      <td>-0.000080</td>\n",
       "      <td>-0.145009</td>\n",
       "      <td>-0.228646</td>\n",
       "      <td>0.297553</td>\n",
       "      <td>0.094245</td>\n",
       "      <td>-2.447269e-01</td>\n",
       "      <td>-2.465506e+00</td>\n",
       "    </tr>\n",
       "    <tr>\n",
       "      <th>2017-02-03 04:15:29.258906112</th>\n",
       "      <td>0.0</td>\n",
       "      <td>-0.291031</td>\n",
       "      <td>-0.228646</td>\n",
       "      <td>0.297553</td>\n",
       "      <td>0.989379</td>\n",
       "      <td>0.010075</td>\n",
       "      <td>-0.000080</td>\n",
       "      <td>-0.145009</td>\n",
       "      <td>-0.228646</td>\n",
       "      <td>0.297553</td>\n",
       "      <td>0.094245</td>\n",
       "      <td>-2.447269e-01</td>\n",
       "      <td>-2.465506e+00</td>\n",
       "    </tr>\n",
       "    <tr>\n",
       "      <th>2017-02-03 04:15:29.264268544</th>\n",
       "      <td>0.0</td>\n",
       "      <td>-0.296027</td>\n",
       "      <td>-0.232241</td>\n",
       "      <td>0.299285</td>\n",
       "      <td>0.989379</td>\n",
       "      <td>0.010075</td>\n",
       "      <td>-0.000080</td>\n",
       "      <td>-0.145009</td>\n",
       "      <td>-0.228646</td>\n",
       "      <td>0.297553</td>\n",
       "      <td>0.094245</td>\n",
       "      <td>-2.447269e-01</td>\n",
       "      <td>-2.465506e+00</td>\n",
       "    </tr>\n",
       "    <tr>\n",
       "      <th>2017-02-03 04:15:29.264081664</th>\n",
       "      <td>0.0</td>\n",
       "      <td>-0.296027</td>\n",
       "      <td>-0.232241</td>\n",
       "      <td>0.299285</td>\n",
       "      <td>0.988975</td>\n",
       "      <td>0.013380</td>\n",
       "      <td>-0.001013</td>\n",
       "      <td>-0.147473</td>\n",
       "      <td>-0.232241</td>\n",
       "      <td>0.299285</td>\n",
       "      <td>0.098429</td>\n",
       "      <td>-2.483218e-01</td>\n",
       "      <td>-2.463774e+00</td>\n",
       "    </tr>\n",
       "    <tr>\n",
       "      <th>2017-02-03 04:15:29.272612864</th>\n",
       "      <td>0.0</td>\n",
       "      <td>-0.295893</td>\n",
       "      <td>-0.232218</td>\n",
       "      <td>0.298900</td>\n",
       "      <td>0.988975</td>\n",
       "      <td>0.013380</td>\n",
       "      <td>-0.001013</td>\n",
       "      <td>-0.147473</td>\n",
       "      <td>-0.232241</td>\n",
       "      <td>0.299285</td>\n",
       "      <td>0.098429</td>\n",
       "      <td>-2.483218e-01</td>\n",
       "      <td>-2.463774e+00</td>\n",
       "    </tr>\n",
       "    <tr>\n",
       "      <th>2017-02-03 04:15:29.272470016</th>\n",
       "      <td>0.0</td>\n",
       "      <td>-0.295893</td>\n",
       "      <td>-0.232218</td>\n",
       "      <td>0.298900</td>\n",
       "      <td>0.988982</td>\n",
       "      <td>0.013554</td>\n",
       "      <td>-0.000546</td>\n",
       "      <td>-0.147413</td>\n",
       "      <td>-0.232218</td>\n",
       "      <td>0.298900</td>\n",
       "      <td>0.098445</td>\n",
       "      <td>-2.482990e-01</td>\n",
       "      <td>-2.464159e+00</td>\n",
       "    </tr>\n",
       "  </tbody>\n",
       "</table>\n",
       "<p>14190 rows × 13 columns</p>\n",
       "</div>"
      ],
      "text/plain": [
       "                               arrived     angle        gx        gy  \\\n",
       "time                                                                   \n",
       "2017-02-03 04:14:32.521745920      0.0 -0.116688  0.016081  2.763059   \n",
       "2017-02-03 04:14:32.521454592      0.0 -0.116688  0.016081  2.763059   \n",
       "2017-02-03 04:14:32.530404608      0.0 -0.124856  0.019033  2.765162   \n",
       "2017-02-03 04:14:32.530204672      0.0 -0.124856  0.019033  2.765162   \n",
       "2017-02-03 04:14:32.540002560      0.0 -0.124848  0.019053  2.765172   \n",
       "2017-02-03 04:14:32.538715392      0.0 -0.124848  0.019053  2.765172   \n",
       "2017-02-03 04:14:32.547051776      0.0 -0.116641  0.016068  2.763060   \n",
       "2017-02-03 04:14:32.546820096      0.0 -0.116641  0.016068  2.763060   \n",
       "2017-02-03 04:14:32.555563264      0.0 -0.116752  0.016077  2.763077   \n",
       "2017-02-03 04:14:32.555339008      0.0 -0.116752  0.016077  2.763077   \n",
       "2017-02-03 04:14:32.559015424      0.0 -0.116752  0.016077  2.763077   \n",
       "2017-02-03 04:14:32.563581440      0.0 -0.116636  0.016066  2.763054   \n",
       "2017-02-03 04:14:32.563402240      0.0 -0.116636  0.016066  2.763054   \n",
       "2017-02-03 04:14:32.571800064      0.0 -0.116636  0.016066  2.763054   \n",
       "2017-02-03 04:14:32.571985408      0.0 -0.116609  0.016068  2.763030   \n",
       "2017-02-03 04:14:32.580603648      0.0 -0.124824  0.019063  2.765142   \n",
       "2017-02-03 04:14:32.580195584      0.0 -0.124824  0.019063  2.765142   \n",
       "2017-02-03 04:14:32.588866304      0.0 -0.127028  0.017315  2.765138   \n",
       "2017-02-03 04:14:32.588530688      0.0 -0.127028  0.017315  2.765138   \n",
       "2017-02-03 04:14:32.597455360      0.0 -0.117550  0.016642  2.764844   \n",
       "2017-02-03 04:14:32.596598016      0.0 -0.117550  0.016642  2.764844   \n",
       "2017-02-03 04:14:32.605524480      0.0 -0.119265  0.017765  2.763804   \n",
       "2017-02-03 04:14:32.605336832      0.0 -0.119265  0.017765  2.763804   \n",
       "2017-02-03 04:14:32.613323264      0.0 -0.119265  0.017765  2.763804   \n",
       "2017-02-03 04:14:32.615931648      0.0 -0.124825  0.019026  2.765168   \n",
       "2017-02-03 04:14:32.622270976      0.0 -0.125916  0.018747  2.765547   \n",
       "2017-02-03 04:14:32.622091008      0.0 -0.125916  0.018747  2.765547   \n",
       "2017-02-03 04:14:32.630283520      0.0 -0.116585  0.016081  2.763009   \n",
       "2017-02-03 04:14:32.629823232      0.0 -0.116585  0.016081  2.763009   \n",
       "2017-02-03 04:14:32.638664192      0.0 -0.116614  0.016076  2.763043   \n",
       "...                                ...       ...       ...       ...   \n",
       "2017-02-03 04:15:29.158889728      0.0 -0.294408 -0.232530  0.299058   \n",
       "2017-02-03 04:15:29.163870976      0.0 -0.294568 -0.232190  0.299265   \n",
       "2017-02-03 04:15:29.163726080      0.0 -0.294568 -0.232190  0.299265   \n",
       "2017-02-03 04:15:29.172667392      0.0 -0.296847 -0.232233  0.299174   \n",
       "2017-02-03 04:15:29.172514560      0.0 -0.296847 -0.232233  0.299174   \n",
       "2017-02-03 04:15:29.180604672      0.0 -0.295310 -0.232344  0.299178   \n",
       "2017-02-03 04:15:29.180461312      0.0 -0.295310 -0.232344  0.299178   \n",
       "2017-02-03 04:15:29.189368576      0.0 -0.299048 -0.233421  0.298621   \n",
       "2017-02-03 04:15:29.189155328      0.0 -0.299048 -0.233421  0.298621   \n",
       "2017-02-03 04:15:29.197256704      0.0 -0.296355 -0.232043  0.298915   \n",
       "2017-02-03 04:15:29.197114368      0.0 -0.296355 -0.232043  0.298915   \n",
       "2017-02-03 04:15:29.205567744      0.0 -0.295771 -0.232646  0.299107   \n",
       "2017-02-03 04:15:29.205464576      0.0 -0.295771 -0.232646  0.299107   \n",
       "2017-02-03 04:15:29.214032640      0.0 -0.295290 -0.232563  0.299202   \n",
       "2017-02-03 04:15:29.213870592      0.0 -0.295290 -0.232563  0.299202   \n",
       "2017-02-03 04:15:29.222401792      0.0 -0.297883 -0.231816  0.299187   \n",
       "2017-02-03 04:15:29.222249472      0.0 -0.297883 -0.231816  0.299187   \n",
       "2017-02-03 04:15:29.231089152      0.0 -0.297883 -0.231816  0.299187   \n",
       "2017-02-03 04:15:29.231230464      0.0 -0.297590 -0.232258  0.298077   \n",
       "2017-02-03 04:15:29.239558912      0.0 -0.296224 -0.232219  0.299027   \n",
       "2017-02-03 04:15:29.239399424      0.0 -0.296224 -0.232219  0.299027   \n",
       "2017-02-03 04:15:29.247527168      0.0 -0.294639 -0.232401  0.299158   \n",
       "2017-02-03 04:15:29.247368704      0.0 -0.294639 -0.232401  0.299158   \n",
       "2017-02-03 04:15:29.255264000      0.0 -0.291031 -0.228646  0.297553   \n",
       "2017-02-03 04:15:29.255138816      0.0 -0.291031 -0.228646  0.297553   \n",
       "2017-02-03 04:15:29.258906112      0.0 -0.291031 -0.228646  0.297553   \n",
       "2017-02-03 04:15:29.264268544      0.0 -0.296027 -0.232241  0.299285   \n",
       "2017-02-03 04:15:29.264081664      0.0 -0.296027 -0.232241  0.299285   \n",
       "2017-02-03 04:15:29.272612864      0.0 -0.295893 -0.232218  0.298900   \n",
       "2017-02-03 04:15:29.272470016      0.0 -0.295893 -0.232218  0.298900   \n",
       "\n",
       "                                     qa        qb        qc        qd  \\\n",
       "time                                                                    \n",
       "2017-02-03 04:14:32.521745920  0.998120  0.018395  0.003106 -0.058377   \n",
       "2017-02-03 04:14:32.521454592  0.998120  0.018395  0.003106 -0.058377   \n",
       "2017-02-03 04:14:32.530404608  0.998120  0.018395  0.003106 -0.058377   \n",
       "2017-02-03 04:14:32.530204672  0.998052  0.000989 -0.000175 -0.062387   \n",
       "2017-02-03 04:14:32.540002560  0.998052  0.000989 -0.000175 -0.062387   \n",
       "2017-02-03 04:14:32.538715392  0.998052  0.000931 -0.000099 -0.062383   \n",
       "2017-02-03 04:14:32.547051776  0.998052  0.000931 -0.000099 -0.062383   \n",
       "2017-02-03 04:14:32.546820096  0.998112  0.018910  0.003132 -0.058356   \n",
       "2017-02-03 04:14:32.555563264  0.998112  0.018910  0.003132 -0.058356   \n",
       "2017-02-03 04:14:32.555339008  0.998129  0.017827  0.003065 -0.058405   \n",
       "2017-02-03 04:14:32.559015424  0.998129  0.017827  0.003065 -0.058405   \n",
       "2017-02-03 04:14:32.563581440  0.998129  0.017827  0.003065 -0.058405   \n",
       "2017-02-03 04:14:32.563402240  0.998112  0.018897  0.003109 -0.058353   \n",
       "2017-02-03 04:14:32.571800064  0.998130  0.018002  0.003092 -0.058335   \n",
       "2017-02-03 04:14:32.571985408  0.998130  0.018002  0.003092 -0.058335   \n",
       "2017-02-03 04:14:32.580603648  0.998130  0.018002  0.003092 -0.058335   \n",
       "2017-02-03 04:14:32.580195584  0.998053  0.000932 -0.000082 -0.062371   \n",
       "2017-02-03 04:14:32.588866304  0.998053  0.000932 -0.000082 -0.062371   \n",
       "2017-02-03 04:14:32.588530688  0.997975 -0.000830  0.004088 -0.063467   \n",
       "2017-02-03 04:14:32.597455360  0.997975 -0.000830  0.004088 -0.063467   \n",
       "2017-02-03 04:14:32.596598016  0.998145 -0.015956  0.001658 -0.058722   \n",
       "2017-02-03 04:14:32.605524480  0.998145 -0.015956  0.001658 -0.058722   \n",
       "2017-02-03 04:14:32.605336832  0.998208 -0.005393  0.000303 -0.059596   \n",
       "2017-02-03 04:14:32.613323264  0.998052  0.001044 -0.000175 -0.062372   \n",
       "2017-02-03 04:14:32.615931648  0.998052  0.001044 -0.000175 -0.062372   \n",
       "2017-02-03 04:14:32.622270976  0.998052  0.001044 -0.000175 -0.062372   \n",
       "2017-02-03 04:14:32.622091008  0.998018  0.000831 -0.000062 -0.062917   \n",
       "2017-02-03 04:14:32.630283520  0.998018  0.000831 -0.000062 -0.062917   \n",
       "2017-02-03 04:14:32.629823232  0.998113  0.018943  0.003107 -0.058328   \n",
       "2017-02-03 04:14:32.638664192  0.998113  0.018943  0.003107 -0.058328   \n",
       "...                                 ...       ...       ...       ...   \n",
       "2017-02-03 04:15:29.158889728  0.989089  0.013676 -0.003831 -0.146633   \n",
       "2017-02-03 04:15:29.163870976  0.989089  0.013676 -0.003831 -0.146633   \n",
       "2017-02-03 04:15:29.163726080  0.989079  0.013641 -0.001578 -0.146744   \n",
       "2017-02-03 04:15:29.172667392  0.989079  0.013641 -0.001578 -0.146744   \n",
       "2017-02-03 04:15:29.172514560  0.988912  0.013498 -0.000580 -0.147885   \n",
       "2017-02-03 04:15:29.180604672  0.988912  0.013498 -0.000580 -0.147885   \n",
       "2017-02-03 04:15:29.180461312  0.989024  0.013668 -0.001071 -0.147118   \n",
       "2017-02-03 04:15:29.189368576  0.989024  0.013668 -0.001071 -0.147118   \n",
       "2017-02-03 04:15:29.189155328  0.988802  0.008563  0.001340 -0.148983   \n",
       "2017-02-03 04:15:29.197256704  0.988802  0.008563  0.001340 -0.148983   \n",
       "2017-02-03 04:15:29.197114368  0.988952  0.013279 -0.000554 -0.147641   \n",
       "2017-02-03 04:15:29.205567744  0.988952  0.013279 -0.000554 -0.147641   \n",
       "2017-02-03 04:15:29.205464576  0.988989  0.013697 -0.000456 -0.147355   \n",
       "2017-02-03 04:15:29.214032640  0.988989  0.013697 -0.000456 -0.147355   \n",
       "2017-02-03 04:15:29.213870592  0.989027  0.013544 -0.000602 -0.147114   \n",
       "2017-02-03 04:15:29.222401792  0.989027  0.013544 -0.000602 -0.147114   \n",
       "2017-02-03 04:15:29.222249472  0.988840  0.013197 -0.001159 -0.148389   \n",
       "2017-02-03 04:15:29.231089152  0.988873  0.010975  0.004208 -0.148295   \n",
       "2017-02-03 04:15:29.231230464  0.988873  0.010975  0.004208 -0.148295   \n",
       "2017-02-03 04:15:29.239558912  0.988873  0.010975  0.004208 -0.148295   \n",
       "2017-02-03 04:15:29.239399424  0.988960  0.013369 -0.000551 -0.147577   \n",
       "2017-02-03 04:15:29.247527168  0.988960  0.013369 -0.000551 -0.147577   \n",
       "2017-02-03 04:15:29.247368704  0.989076  0.013465 -0.001424 -0.146781   \n",
       "2017-02-03 04:15:29.255264000  0.989076  0.013465 -0.001424 -0.146781   \n",
       "2017-02-03 04:15:29.255138816  0.989379  0.010075 -0.000080 -0.145009   \n",
       "2017-02-03 04:15:29.258906112  0.989379  0.010075 -0.000080 -0.145009   \n",
       "2017-02-03 04:15:29.264268544  0.989379  0.010075 -0.000080 -0.145009   \n",
       "2017-02-03 04:15:29.264081664  0.988975  0.013380 -0.001013 -0.147473   \n",
       "2017-02-03 04:15:29.272612864  0.988975  0.013380 -0.001013 -0.147473   \n",
       "2017-02-03 04:15:29.272470016  0.988982  0.013554 -0.000546 -0.147413   \n",
       "\n",
       "                                      x         y         z            xn  \\\n",
       "time                                                                        \n",
       "2017-02-03 04:14:32.521745920  0.016081  2.763059  0.094384  0.000000e+00   \n",
       "2017-02-03 04:14:32.521454592  0.016081  2.763059  0.094384  0.000000e+00   \n",
       "2017-02-03 04:14:32.530404608  0.016081  2.763059  0.094384  0.000000e+00   \n",
       "2017-02-03 04:14:32.530204672  0.019033  2.765162  0.091747  2.951860e-03   \n",
       "2017-02-03 04:14:32.540002560  0.019033  2.765162  0.091747  2.951860e-03   \n",
       "2017-02-03 04:14:32.538715392  0.019053  2.765172  0.091737  2.972173e-03   \n",
       "2017-02-03 04:14:32.547051776  0.019053  2.765172  0.091737  2.972173e-03   \n",
       "2017-02-03 04:14:32.546820096  0.016068  2.763060  0.094459 -1.302920e-05   \n",
       "2017-02-03 04:14:32.555563264  0.016068  2.763060  0.094459 -1.302920e-05   \n",
       "2017-02-03 04:14:32.555339008  0.016077  2.763077  0.094293 -4.233792e-06   \n",
       "2017-02-03 04:14:32.559015424  0.016077  2.763077  0.094293 -4.233792e-06   \n",
       "2017-02-03 04:14:32.563581440  0.016077  2.763077  0.094293 -4.233792e-06   \n",
       "2017-02-03 04:14:32.563402240  0.016066  2.763054  0.094474 -1.438707e-05   \n",
       "2017-02-03 04:14:32.571800064  0.016068  2.763030  0.094322 -1.266971e-05   \n",
       "2017-02-03 04:14:32.571985408  0.016068  2.763030  0.094322 -1.266971e-05   \n",
       "2017-02-03 04:14:32.580603648  0.016068  2.763030  0.094322 -1.266971e-05   \n",
       "2017-02-03 04:14:32.580195584  0.019063  2.765142  0.091757  2.981722e-03   \n",
       "2017-02-03 04:14:32.588866304  0.019063  2.765142  0.091757  2.981722e-03   \n",
       "2017-02-03 04:14:32.588530688  0.017315  2.765138  0.091676  1.233963e-03   \n",
       "2017-02-03 04:14:32.597455360  0.017315  2.765138  0.091676  1.233963e-03   \n",
       "2017-02-03 04:14:32.596598016  0.016642  2.764844  0.088065  5.610213e-04   \n",
       "2017-02-03 04:14:32.605524480  0.016642  2.764844  0.088065  5.610213e-04   \n",
       "2017-02-03 04:14:32.605336832  0.017765  2.763804  0.090932  1.684269e-03   \n",
       "2017-02-03 04:14:32.613323264  0.019026  2.765168  0.091718  2.945522e-03   \n",
       "2017-02-03 04:14:32.615931648  0.019026  2.765168  0.091718  2.945522e-03   \n",
       "2017-02-03 04:14:32.622270976  0.019026  2.765168  0.091718  2.945522e-03   \n",
       "2017-02-03 04:14:32.622091008  0.018747  2.765547  0.091786  2.665859e-03   \n",
       "2017-02-03 04:14:32.630283520  0.018747  2.765547  0.091786  2.665859e-03   \n",
       "2017-02-03 04:14:32.629823232  0.016081  2.763009  0.094501 -2.402812e-07   \n",
       "2017-02-03 04:14:32.638664192  0.016081  2.763009  0.094501 -2.402812e-07   \n",
       "...                                 ...       ...       ...           ...   \n",
       "2017-02-03 04:15:29.158889728 -0.232530  0.299058  0.098499 -2.486104e-01   \n",
       "2017-02-03 04:15:29.163870976 -0.232530  0.299058  0.098499 -2.486104e-01   \n",
       "2017-02-03 04:15:29.163726080 -0.232190  0.299265  0.098554 -2.482707e-01   \n",
       "2017-02-03 04:15:29.172667392 -0.232190  0.299265  0.098554 -2.482707e-01   \n",
       "2017-02-03 04:15:29.172514560 -0.232233  0.299174  0.098523 -2.483143e-01   \n",
       "2017-02-03 04:15:29.180604672 -0.232233  0.299174  0.098523 -2.483143e-01   \n",
       "2017-02-03 04:15:29.180461312 -0.232344  0.299178  0.098515 -2.484250e-01   \n",
       "2017-02-03 04:15:29.189368576 -0.232344  0.299178  0.098515 -2.484250e-01   \n",
       "2017-02-03 04:15:29.189155328 -0.233421  0.298621  0.093858 -2.495020e-01   \n",
       "2017-02-03 04:15:29.197256704 -0.233421  0.298621  0.093858 -2.495020e-01   \n",
       "2017-02-03 04:15:29.197114368 -0.232043  0.298915  0.098393 -2.481242e-01   \n",
       "2017-02-03 04:15:29.205567744 -0.232043  0.298915  0.098393 -2.481242e-01   \n",
       "2017-02-03 04:15:29.205464576 -0.232646  0.299107  0.098468 -2.487273e-01   \n",
       "2017-02-03 04:15:29.214032640 -0.232646  0.299107  0.098468 -2.487273e-01   \n",
       "2017-02-03 04:15:29.213870592 -0.232563  0.299202  0.098423 -2.486435e-01   \n",
       "2017-02-03 04:15:29.222401792 -0.232563  0.299202  0.098423 -2.486435e-01   \n",
       "2017-02-03 04:15:29.222249472 -0.231816  0.299187  0.098340 -2.478965e-01   \n",
       "2017-02-03 04:15:29.231089152 -0.232258  0.298077  0.093454 -2.483384e-01   \n",
       "2017-02-03 04:15:29.231230464 -0.232258  0.298077  0.093454 -2.483384e-01   \n",
       "2017-02-03 04:15:29.239558912 -0.232258  0.298077  0.093454 -2.483384e-01   \n",
       "2017-02-03 04:15:29.239399424 -0.232219  0.299027  0.098439 -2.483003e-01   \n",
       "2017-02-03 04:15:29.247527168 -0.232219  0.299027  0.098439 -2.483003e-01   \n",
       "2017-02-03 04:15:29.247368704 -0.232401  0.299158  0.098439 -2.484816e-01   \n",
       "2017-02-03 04:15:29.255264000 -0.232401  0.299158  0.098439 -2.484816e-01   \n",
       "2017-02-03 04:15:29.255138816 -0.228646  0.297553  0.094245 -2.447269e-01   \n",
       "2017-02-03 04:15:29.258906112 -0.228646  0.297553  0.094245 -2.447269e-01   \n",
       "2017-02-03 04:15:29.264268544 -0.228646  0.297553  0.094245 -2.447269e-01   \n",
       "2017-02-03 04:15:29.264081664 -0.232241  0.299285  0.098429 -2.483218e-01   \n",
       "2017-02-03 04:15:29.272612864 -0.232241  0.299285  0.098429 -2.483218e-01   \n",
       "2017-02-03 04:15:29.272470016 -0.232218  0.298900  0.098445 -2.482990e-01   \n",
       "\n",
       "                                         yn  \n",
       "time                                         \n",
       "2017-02-03 04:14:32.521745920  0.000000e+00  \n",
       "2017-02-03 04:14:32.521454592  0.000000e+00  \n",
       "2017-02-03 04:14:32.530404608  0.000000e+00  \n",
       "2017-02-03 04:14:32.530204672  2.102375e-03  \n",
       "2017-02-03 04:14:32.540002560  2.102375e-03  \n",
       "2017-02-03 04:14:32.538715392  2.113104e-03  \n",
       "2017-02-03 04:14:32.547051776  2.113104e-03  \n",
       "2017-02-03 04:14:32.546820096  7.152557e-07  \n",
       "2017-02-03 04:14:32.555563264  7.152557e-07  \n",
       "2017-02-03 04:14:32.555339008  1.835823e-05  \n",
       "2017-02-03 04:14:32.559015424  1.835823e-05  \n",
       "2017-02-03 04:14:32.563581440  1.835823e-05  \n",
       "2017-02-03 04:14:32.563402240 -5.245209e-06  \n",
       "2017-02-03 04:14:32.571800064 -2.884865e-05  \n",
       "2017-02-03 04:14:32.571985408 -2.884865e-05  \n",
       "2017-02-03 04:14:32.580603648 -2.884865e-05  \n",
       "2017-02-03 04:14:32.580195584  2.083063e-03  \n",
       "2017-02-03 04:14:32.588866304  2.083063e-03  \n",
       "2017-02-03 04:14:32.588530688  2.079010e-03  \n",
       "2017-02-03 04:14:32.597455360  2.079010e-03  \n",
       "2017-02-03 04:14:32.596598016  1.784801e-03  \n",
       "2017-02-03 04:14:32.605524480  1.784801e-03  \n",
       "2017-02-03 04:14:32.605336832  7.445812e-04  \n",
       "2017-02-03 04:14:32.613323264  2.109289e-03  \n",
       "2017-02-03 04:14:32.615931648  2.109289e-03  \n",
       "2017-02-03 04:14:32.622270976  2.109289e-03  \n",
       "2017-02-03 04:14:32.622091008  2.487898e-03  \n",
       "2017-02-03 04:14:32.630283520  2.487898e-03  \n",
       "2017-02-03 04:14:32.629823232 -5.054474e-05  \n",
       "2017-02-03 04:14:32.638664192 -5.054474e-05  \n",
       "...                                     ...  \n",
       "2017-02-03 04:15:29.158889728 -2.464002e+00  \n",
       "2017-02-03 04:15:29.163870976 -2.464002e+00  \n",
       "2017-02-03 04:15:29.163726080 -2.463794e+00  \n",
       "2017-02-03 04:15:29.172667392 -2.463794e+00  \n",
       "2017-02-03 04:15:29.172514560 -2.463885e+00  \n",
       "2017-02-03 04:15:29.180604672 -2.463885e+00  \n",
       "2017-02-03 04:15:29.180461312 -2.463881e+00  \n",
       "2017-02-03 04:15:29.189368576 -2.463881e+00  \n",
       "2017-02-03 04:15:29.189155328 -2.464438e+00  \n",
       "2017-02-03 04:15:29.197256704 -2.464438e+00  \n",
       "2017-02-03 04:15:29.197114368 -2.464145e+00  \n",
       "2017-02-03 04:15:29.205567744 -2.464145e+00  \n",
       "2017-02-03 04:15:29.205464576 -2.463952e+00  \n",
       "2017-02-03 04:15:29.214032640 -2.463952e+00  \n",
       "2017-02-03 04:15:29.213870592 -2.463857e+00  \n",
       "2017-02-03 04:15:29.222401792 -2.463857e+00  \n",
       "2017-02-03 04:15:29.222249472 -2.463872e+00  \n",
       "2017-02-03 04:15:29.231089152 -2.464982e+00  \n",
       "2017-02-03 04:15:29.231230464 -2.464982e+00  \n",
       "2017-02-03 04:15:29.239558912 -2.464982e+00  \n",
       "2017-02-03 04:15:29.239399424 -2.464033e+00  \n",
       "2017-02-03 04:15:29.247527168 -2.464033e+00  \n",
       "2017-02-03 04:15:29.247368704 -2.463901e+00  \n",
       "2017-02-03 04:15:29.255264000 -2.463901e+00  \n",
       "2017-02-03 04:15:29.255138816 -2.465506e+00  \n",
       "2017-02-03 04:15:29.258906112 -2.465506e+00  \n",
       "2017-02-03 04:15:29.264268544 -2.465506e+00  \n",
       "2017-02-03 04:15:29.264081664 -2.463774e+00  \n",
       "2017-02-03 04:15:29.272612864 -2.463774e+00  \n",
       "2017-02-03 04:15:29.272470016 -2.464159e+00  \n",
       "\n",
       "[14190 rows x 13 columns]"
      ]
     },
     "execution_count": 186,
     "metadata": {},
     "output_type": "execute_result"
    }
   ],
   "source": [
    "df0"
   ]
  },
  {
   "cell_type": "code",
   "execution_count": null,
   "metadata": {
    "collapsed": true
   },
   "outputs": [],
   "source": [
    "for filename in glob.glob(\"bagfiles/*.bag\"):"
   ]
  },
  {
   "cell_type": "code",
   "execution_count": null,
   "metadata": {
    "collapsed": true
   },
   "outputs": [],
   "source": []
  },
  {
   "cell_type": "code",
   "execution_count": null,
   "metadata": {
    "collapsed": true
   },
   "outputs": [],
   "source": []
  },
  {
   "cell_type": "code",
   "execution_count": null,
   "metadata": {
    "collapsed": true
   },
   "outputs": [],
   "source": []
  },
  {
   "cell_type": "code",
   "execution_count": null,
   "metadata": {
    "collapsed": true
   },
   "outputs": [],
   "source": []
  },
  {
   "cell_type": "code",
   "execution_count": null,
   "metadata": {
    "collapsed": true
   },
   "outputs": [],
   "source": []
  }
 ],
 "metadata": {
  "kernelspec": {
   "display_name": "Python 2",
   "language": "python",
   "name": "python2"
  },
  "language_info": {
   "codemirror_mode": {
    "name": "ipython",
    "version": 2
   },
   "file_extension": ".py",
   "mimetype": "text/x-python",
   "name": "python",
   "nbconvert_exporter": "python",
   "pygments_lexer": "ipython2",
   "version": "2.7.12"
  }
 },
 "nbformat": 4,
 "nbformat_minor": 2
}
